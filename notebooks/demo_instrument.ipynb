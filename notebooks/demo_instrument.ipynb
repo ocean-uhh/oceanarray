{
 "cells": [
  {
   "cell_type": "markdown",
   "id": "c6a29764-f39c-431c-8e77-fbc6bfe20f01",
   "metadata": {},
   "source": [
    "# Demo: instrument-level processing\n",
    "\n",
    "This notebook walks through the instrument-level processing in the oceanarray code.\n"
   ]
  },
  {
   "cell_type": "code",
   "execution_count": null,
   "id": "6a1920f3",
   "metadata": {},
   "outputs": [],
   "source": [
    "from pathlib import Path\n",
    "import numpy as np\n",
    "import xarray as xr\n",
    "import numpy as np\n",
    "from oceanarray import readers, rodb, instrument, plotters, tools, writers, convertOS\n",
    "import pandas as pd\n"
   ]
  },
  {
   "cell_type": "markdown",
   "id": "3e40a0b1",
   "metadata": {},
   "source": [
    "## Stage 0 & 1:  Already taken place\n",
    " \n",
    "Assume the output is now `data/wb1_12_2015_6123.raw`.\n"
   ]
  },
  {
   "cell_type": "code",
   "execution_count": null,
   "id": "dff9ed08",
   "metadata": {},
   "outputs": [],
   "source": [
    "data_dir = Path(\"..\" ,\"data\")\n",
    "input_file = 'wb1_12_2015_6123.raw'\n",
    "ds = rodb.rodbload(data_dir / input_file)\n",
    "\n",
    "ds"
   ]
  },
  {
   "cell_type": "markdown",
   "id": "58fd7f96",
   "metadata": {},
   "source": [
    "## Stage 2: Trim to deployment period \n",
    "\n",
    "Show the *.raw file, and then trim (iteratively) to the deployment period, using plotting"
   ]
  },
  {
   "cell_type": "code",
   "execution_count": null,
   "id": "ed615f11",
   "metadata": {},
   "outputs": [],
   "source": [
    "\n",
    "ds2, dstart, dend = instrument.stage2_trim(ds)\n",
    "\n",
    "print(\"Deployment start:\", dstart)\n",
    "print(\"Deployment end:\", dend)\n",
    "\n",
    "fig = plotters.plot_microcat(ds2)\n",
    "\n"
   ]
  },
  {
   "cell_type": "code",
   "execution_count": null,
   "id": "6b1ecfad",
   "metadata": {},
   "outputs": [],
   "source": [
    "dstart, dend = instrument.trim_suggestion(ds)\n",
    "fig, ax = plotters.plot_trim_windows(ds, dstart, dend)\n"
   ]
  },
  {
   "cell_type": "code",
   "execution_count": null,
   "id": "660769c4",
   "metadata": {},
   "outputs": [],
   "source": [
    "dstart = np.datetime64('2015-11-30T19:00:00')\n",
    "dend = np.datetime64('2017-03-28T14:00:00')\n",
    "\n",
    "ds2, dstart, dend = instrument.stage2_trim(ds, deployment_start=dstart, deployment_end=dend)\n",
    "\n",
    "print(\"Deployment start:\", dstart)\n",
    "print(\"Deployment end:\", dend)\n",
    "\n",
    "fig = plotters.plot_microcat(ds2)"
   ]
  },
  {
   "cell_type": "markdown",
   "id": "b74ee21e",
   "metadata": {},
   "source": [
    "## Stage 3: Apply calibrations + corrections"
   ]
  },
  {
   "cell_type": "code",
   "execution_count": null,
   "id": "60fab40c",
   "metadata": {},
   "outputs": [],
   "source": [
    "ds_cal = instrument.apply_microcat_calibration_from_txt(data_dir / 'wb1_12_2015_005.microcat.txt', data_dir / 'wb1_12_2015_6123.use')\n",
    "ds_cal\n"
   ]
  },
  {
   "cell_type": "code",
   "execution_count": null,
   "id": "2e19689c",
   "metadata": {},
   "outputs": [],
   "source": [
    "fig = plotters.plot_microcat(ds_cal)"
   ]
  },
  {
   "cell_type": "code",
   "execution_count": null,
   "id": "1e1b7d98",
   "metadata": {},
   "outputs": [],
   "source": [
    "ds_diff = tools.calc_ds_difference(ds_cal, ds2)\n",
    "fig = plotters.plot_microcat(ds_diff)\n",
    "fig.suptitle(\"difference between *.use and *.microcat\")"
   ]
  },
  {
   "cell_type": "markdown",
   "id": "f0627f85",
   "metadata": {},
   "source": [
    "## Stage 4: Convert to OceanSites format\n"
   ]
  },
  {
   "cell_type": "code",
   "execution_count": null,
   "id": "42ff46bc",
   "metadata": {},
   "outputs": [],
   "source": [
    "\n",
    "metadata_txt = data_dir / 'wb1_12_2015_6123.use'\n",
    "config_dir = Path(\"..\") / \"oceanarray\" / \"config\"\n",
    "var_map_yaml = config_dir / \"OS1_var_names.yaml\"\n",
    "vocab_yaml = config_dir / \"OS1_vocab_attrs.yaml\"\n",
    "sensor_yaml = config_dir / \"OS1_sensor_attrs.yaml\"\n",
    "project_yaml = config_dir / \"project_RAPID.yaml\"\n",
    "ds_OS = convertOS.convert_rodb_to_oceansites(ds_cal, metadata_txt, var_map_yaml, vocab_yaml, sensor_yaml=sensor_yaml,project_yaml=project_yaml)\n"
   ]
  },
  {
   "cell_type": "code",
   "execution_count": null,
   "id": "910930c6",
   "metadata": {},
   "outputs": [],
   "source": [
    "ds_OS"
   ]
  },
  {
   "cell_type": "code",
   "execution_count": null,
   "id": "1de3a2d4",
   "metadata": {
    "vscode": {
     "languageId": "markdown"
    }
   },
   "outputs": [],
   "source": [
    "filepath = writers.save_OS_instrument(ds_OS, data_dir)\n",
    "print(filepath)"
   ]
  }
 ],
 "metadata": {
  "kernelspec": {
   "display_name": "venv (3.11.7)",
   "language": "python",
   "name": "python3"
  },
  "language_info": {
   "codemirror_mode": {
    "name": "ipython",
    "version": 3
   },
   "file_extension": ".py",
   "mimetype": "text/x-python",
   "name": "python",
   "nbconvert_exporter": "python",
   "pygments_lexer": "ipython3",
   "version": "3.11.7"
  }
 },
 "nbformat": 4,
 "nbformat_minor": 5
}
