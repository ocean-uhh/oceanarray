{
 "cells": [
  {
   "cell_type": "markdown",
   "id": "71edb016",
   "metadata": {},
   "source": [
    "## Demo: Stage2 processing for mooring data\n",
    "\n",
    "- Apply clock offsets\n",
    "- Trim to deployment period"
   ]
  },
  {
   "cell_type": "code",
   "execution_count": 2,
   "id": "0ff1f4d0",
   "metadata": {},
   "outputs": [],
   "source": [
    "import os\n",
    "\n",
    "import yaml\n",
    "import scipy.io\n",
    "import matplotlib.pyplot as plt\n",
    "import numpy as np\n",
    "import xarray as xr\n",
    "from datetime import datetime\n"
   ]
  },
  {
   "cell_type": "code",
   "execution_count": 10,
   "id": "518ff131",
   "metadata": {},
   "outputs": [
    {
     "name": "stdout",
     "output_type": "stream",
     "text": [
      "Saving to /Users/eddifying/Dropbox/data/ifmro_mixsed/ds_data_eleanor/moor/proc/dsC_1_2018 + dsC_1_2018_6368_use.nc\n",
      "Saving to /Users/eddifying/Dropbox/data/ifmro_mixsed/ds_data_eleanor/moor/proc/dsC_1_2018 + dsC_1_2018_7091_use.nc\n",
      "Saving to /Users/eddifying/Dropbox/data/ifmro_mixsed/ds_data_eleanor/moor/proc/dsC_1_2018 + dsC_1_2018_6391_use.nc\n",
      "Saving to /Users/eddifying/Dropbox/data/ifmro_mixsed/ds_data_eleanor/moor/proc/dsC_1_2018 + dsC_1_2018_6393_use.nc\n",
      "Saving to /Users/eddifying/Dropbox/data/ifmro_mixsed/ds_data_eleanor/moor/proc/dsC_1_2018 + dsC_1_2018_6407_use.nc\n",
      "Saving to /Users/eddifying/Dropbox/data/ifmro_mixsed/ds_data_eleanor/moor/proc/dsC_1_2018 + dsC_1_2018_6404_use.nc\n",
      "Saving to /Users/eddifying/Dropbox/data/ifmro_mixsed/ds_data_eleanor/moor/proc/dsC_1_2018 + dsC_1_2018_6406_use.nc\n",
      "Saving to /Users/eddifying/Dropbox/data/ifmro_mixsed/ds_data_eleanor/moor/proc/dsC_1_2018 + dsC_1_2018_6392_use.nc\n",
      "Saving to /Users/eddifying/Dropbox/data/ifmro_mixsed/ds_data_eleanor/moor/proc/dsC_1_2018 + dsC_1_2018_1167_use.nc\n",
      "Saving to /Users/eddifying/Dropbox/data/ifmro_mixsed/ds_data_eleanor/moor/proc/dsC_1_2018 + dsC_1_2018_4771_use.nc\n"
     ]
    },
    {
     "name": "stderr",
     "output_type": "stream",
     "text": [
      "/var/folders/t1/z5bp59k95119nw35yqv699t40000gn/T/ipykernel_27202/4183206822.py:43: FutureWarning: In a future version of xarray decode_timedelta will default to False rather than None. To silence this warning, set decode_timedelta to True, False, or a 'CFTimedeltaCoder' instance.\n",
      "  ds1 = xr.open_dataset(rawfile)\n"
     ]
    },
    {
     "name": "stdout",
     "output_type": "stream",
     "text": [
      "Saving to /Users/eddifying/Dropbox/data/ifmro_mixsed/ds_data_eleanor/moor/proc/dsC_1_2018 + dsC_1_2018_7090_use.nc\n",
      "Saving to /Users/eddifying/Dropbox/data/ifmro_mixsed/ds_data_eleanor/moor/proc/dsC_1_2018 + dsC_1_2018_6395_use.nc\n",
      "Saving to /Users/eddifying/Dropbox/data/ifmro_mixsed/ds_data_eleanor/moor/proc/dsC_1_2018 + dsC_1_2018_6367_use.nc\n",
      "Saving to /Users/eddifying/Dropbox/data/ifmro_mixsed/ds_data_eleanor/moor/proc/dsC_1_2018 + dsC_1_2018_6371_use.nc\n",
      "Saving to /Users/eddifying/Dropbox/data/ifmro_mixsed/ds_data_eleanor/moor/proc/dsC_1_2018 + dsC_1_2018_6372_use.nc\n",
      "Saving to /Users/eddifying/Dropbox/data/ifmro_mixsed/ds_data_eleanor/moor/proc/dsC_1_2018 + dsC_1_2018_15176_use.nc\n",
      "Saving to /Users/eddifying/Dropbox/data/ifmro_mixsed/ds_data_eleanor/moor/proc/dsC_1_2018 + dsC_1_2018_4774_use.nc\n",
      "Saving to /Users/eddifying/Dropbox/data/ifmro_mixsed/ds_data_eleanor/moor/proc/dsC_1_2018 + dsC_1_2018_6408_use.nc\n",
      "Saving to /Users/eddifying/Dropbox/data/ifmro_mixsed/ds_data_eleanor/moor/proc/dsC_1_2018 + dsC_1_2018_6403_use.nc\n",
      "Saving to /Users/eddifying/Dropbox/data/ifmro_mixsed/ds_data_eleanor/moor/proc/dsC_1_2018 + dsC_1_2018_6398_use.nc\n",
      "Saving to /Users/eddifying/Dropbox/data/ifmro_mixsed/ds_data_eleanor/moor/proc/dsC_1_2018 + dsC_1_2018_6400_use.nc\n",
      "Saving to /Users/eddifying/Dropbox/data/ifmro_mixsed/ds_data_eleanor/moor/proc/dsC_1_2018 + dsC_1_2018_6396_use.nc\n",
      "Saving to /Users/eddifying/Dropbox/data/ifmro_mixsed/ds_data_eleanor/moor/proc/dsC_1_2018 + dsC_1_2018_7516_use.nc\n",
      "Saving to /Users/eddifying/Dropbox/data/ifmro_mixsed/ds_data_eleanor/moor/proc/dsC_1_2018 + dsC_1_2018_9057_use.nc\n",
      "Saving to /Users/eddifying/Dropbox/data/ifmro_mixsed/ds_data_eleanor/moor/proc/dsC_1_2018 + dsC_1_2018_6399_use.nc\n"
     ]
    }
   ],
   "source": [
    "# Specify the base directory.  raw is a subdirectory from here moor/raw/ and proc is moor/proc\n",
    "basedir = '/Users/eddifying/Dropbox/data/ifmro_mixsed/ds_data_eleanor/'\n",
    "output_path = basedir + 'moor/proc/'\n",
    "\n",
    "moorlist = ['ds2_X_2012','ds2_X_2017','ds2_X_2018',\n",
    "            'ds8_1_2012','ds9_1_2012','ds10_1_2012', 'ds11_1_2012','ds12_1_2012',\n",
    "            'ds13_1_2012','ds14_1_2012','ds15_1_2012','ds16_1_2012','ds17_1_2012',\n",
    "            'ds19_1_2012','ds18_1_2012','ds28_1_2017',\n",
    "            'dsA_1_2018','dsB_1_2018','dsC_1_2018', 'dsD_1_2018','dsE_1_2018','dsF_1_2018',\n",
    "            'dsM1_1_2017','dsM2_1_2017','dsM3_1_2017','dsM4_1_2017','dsM5_1_2017']\n",
    "moorlist = ['dsC_1_2018']\n",
    "\n",
    "def read_yaml_time(data, key):\n",
    "    \"\"\"Return datetime64[ns] from YAML dict or NaT if missing/invalid.\"\"\"\n",
    "    val = data.get(key, None)\n",
    "    if val is None or (isinstance(val, str) and not val.strip()):\n",
    "        return np.datetime64(\"NaT\", \"ns\")\n",
    "    try:\n",
    "        return pd.to_datetime(val).to_datetime64()\n",
    "    except Exception:\n",
    "        return np.datetime64(\"NaT\", \"ns\")\n",
    "\n",
    "# Cycle through the yaml and load instrument data into a list of xarray datasets\n",
    "# Enrich the netCDF with information from the yaml file\n",
    "# Find the mooring's processed directory & read the yaml specification\n",
    "name1 = moorlist[0]\n",
    "proc_dir = output_path + name1\n",
    "moor_yaml = proc_dir + '/' + name1 + '.mooring.yaml'\n",
    "with open(moor_yaml, 'r') as f:\n",
    "    moor_yaml_data = yaml.safe_load(f)\n",
    "\n",
    "# For each instrument, load the raw netCDF files and add some metadata from the yaml\n",
    "datasets = []\n",
    "deploy_time  = read_yaml_time(moor_yaml_data, \"deployment_time\")\n",
    "recover_time = read_yaml_time(moor_yaml_data, \"recovery_time\")\n",
    "\n",
    "\n",
    "for i in moor_yaml_data['instruments']:\n",
    "    fname = name1 + '_' + str(i['serial']) + '_raw.nc'\n",
    "    rawfile = proc_dir + '/' + i['instrument'] + '/' + fname\n",
    "\n",
    "    if os.path.exists(rawfile):\n",
    "        ds1 = xr.open_dataset(rawfile)\n",
    "\n",
    "        if 'InstrDepth' not in ds1.variables and 'depth' in i:\n",
    "            ds1['InstrDepth'] = i['depth']\n",
    "        if 'instrument' not in ds1.variables and 'instrument' in i:\n",
    "            ds1['instrument'] = i['instrument']\n",
    "        if 'serial_number' not in ds1.variables and 'serial' in i:\n",
    "            ds1['serial_number'] = i['serial']\n",
    "        if 'timeS' in ds1.variables:\n",
    "            ds1 = ds1.drop_vars('timeS')\n",
    "\n",
    "        # Apply the clock offset\n",
    "        ds1['clock_offset'] = i.get('clock_offset', 0)\n",
    "        ds1['clock_offset'].attrs['units'] = 's'\n",
    "        clock_offset = ds1['clock_offset'].values\n",
    "        ds1['time'] = ds1['time'] + np.timedelta64(int(ds1['clock_offset'].values), 's')\n",
    "\n",
    "        if np.isfinite(deploy_time):\n",
    "            ds1 = ds1.sel(time=slice(deploy_time, None))\n",
    "        if np.isfinite(recover_time):\n",
    "            ds1 = ds1.sel(time=slice(None, recover_time))\n",
    "        #---------------------------------------------\n",
    "        # Store the data in a list of datasets\n",
    "        fname2 = fname.replace('_raw','_use')\n",
    "        print(f\"Saving to {proc_dir} + {fname2}\")\n",
    "        ds1.to_netcdf(proc_dir + '/' + i['instrument'] + '/' + fname2)\n",
    "\n",
    "\n",
    "\n"
   ]
  }
 ],
 "metadata": {
  "kernelspec": {
   "display_name": "venv (3.11.7)",
   "language": "python",
   "name": "python3"
  },
  "language_info": {
   "codemirror_mode": {
    "name": "ipython",
    "version": 3
   },
   "file_extension": ".py",
   "mimetype": "text/x-python",
   "name": "python",
   "nbconvert_exporter": "python",
   "pygments_lexer": "ipython3",
   "version": "3.11.7"
  }
 },
 "nbformat": 4,
 "nbformat_minor": 5
}
