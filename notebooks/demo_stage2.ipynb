{
 "cells": [
  {
   "cell_type": "markdown",
   "id": "71edb016",
   "metadata": {},
   "source": "## Demo: Stage2 processing for mooring data\n\n**Stage 2 Overview**: This is the second processing stage that applies temporal corrections and deployment trimming to Stage1 NetCDF files. It focuses solely on time coordinate modifications and data trimming without changing the actual data values.\n\n### What Stage2 Does:\n- **Clock Offset Corrections**: Applies time corrections specified in YAML configuration files to fix instrument clock errors\n- **Deployment Trimming**: Crops data to the actual deployment period (removes pre/post deployment data)  \n- **Time Coordinate Only**: Only modifies the time coordinate - all data values remain unchanged\n- **Metadata Updates**: Updates processing history and adds Stage2-specific attributes\n- **File Renaming**: Converts `*_raw.nc` files to `*_use.nc` files indicating they're ready for analysis\n\n### Input Files:\n- Stage1 NetCDF files: `{mooring}_{serial}_raw.nc`\n- Updated YAML configuration files with `clock_offset` values (determined from clock offset analysis)\n- Deployment timing information in YAML files\n\n### Output Files:\n- Time-corrected NetCDF files: `{mooring}_{serial}_use.nc`\n- Processing logs documenting applied corrections\n\n### Processing Flow:\n1. Load Stage1 (`*_raw.nc`) files\n2. Read clock offset values from YAML configuration\n3. Apply temporal corrections to time coordinate only\n4. Trim data to deployment period (between deployment and recovery times)\n5. Update metadata with processing history\n6. Save as Stage2 (`*_use.nc`) files\n\n### Clock Offset Workflow:\n1. **Analyze**: Use `demo_clock_offset.ipynb` (which uses `oceanarray.clock_offset.py`) to determine timing corrections needed\n2. **Update YAML**: Manually add `clock_offset` values (in seconds) to instrument configurations  \n3. **Process Stage2**: Apply corrections and create `*_use.nc` files\n4. **Verify**: Re-run clock offset analysis on `*_use.nc` files to confirm corrections\n\n**Note**: Stage2 only modifies time coordinates and trims data - no quality control or data value modifications are performed. The `*_use.nc` files represent individual instruments with corrected timing and trimmed to deployment periods.\n\nThis notebook demonstrates the usage of the `oceanarray.stage2` module."
  },
  {
   "cell_type": "code",
   "execution_count": null,
   "id": "0ff1f4d0",
   "metadata": {},
   "outputs": [],
   "source": [
    "import os\n",
    "\n",
    "import yaml\n",
    "import scipy.io\n",
    "import matplotlib.pyplot as plt\n",
    "import numpy as np\n",
    "import xarray as xr\n",
    "from datetime import datetime\n",
    "import pandas as pd\n",
    "from ctd_tools.writers import NetCdfWriter\n",
    "from oceanarray import writers\n",
    "\n",
    "moorlist = ['ds2_X_2012','ds2_X_2017','ds2_X_2018',\n",
    "            'ds8_1_2012','ds9_1_2012','ds10_1_2012', 'ds11_1_2012','ds12_1_2012',\n",
    "            'ds13_1_2012','ds14_1_2012','ds15_1_2012','ds16_1_2012','ds17_1_2012',\n",
    "            'ds19_1_2012','ds18_1_2012','ds28_1_2017',\n",
    "            'dsA_1_2018','dsB_1_2018','dsC_1_2018', 'dsD_1_2018','dsE_1_2018','dsF_1_2018',\n",
    "            'dsM1_1_2017','dsM2_1_2017','dsM3_1_2017','dsM4_1_2017','dsM5_1_2017']"
   ]
  },
  {
   "cell_type": "code",
   "execution_count": null,
   "id": "518ff131",
   "metadata": {},
   "outputs": [],
   "source": [
    "from oceanarray.stage2 import Stage2Processor, process_multiple_moorings_stage2\n",
    "\n",
    "# Simple usage\n",
    "moorlist = ['dsE_1_2018']\n",
    "basedir = '/Users/eddifying/Dropbox/data/ifmro_mixsed/ds_data_eleanor/'\n",
    "results = process_multiple_moorings_stage2(moorlist, basedir)"
   ]
  },
  {
   "cell_type": "code",
   "execution_count": null,
   "id": "5bc08fb9",
   "metadata": {},
   "outputs": [],
   "source": [
    "dir1 = '/Users/eddifying/Dropbox/data/ifmro_mixsed/ds_data_eleanor/moor/proc/dsE_1_2018/microcat'\n",
    "fname = 'dsE_1_2018_7518_use.nc'\n",
    "from pathlib import Path\n",
    "data1 = xr.open_dataset(Path(dir1) / fname)"
   ]
  },
  {
   "cell_type": "code",
   "execution_count": null,
   "id": "61f8cb88",
   "metadata": {},
   "outputs": [],
   "source": [
    "data1"
   ]
  },
  {
   "cell_type": "code",
   "execution_count": null,
   "id": "0c024c1c",
   "metadata": {},
   "outputs": [],
   "source": [
    "data1.serial_number.values"
   ]
  },
  {
   "cell_type": "code",
   "execution_count": null,
   "id": "3ca0c0bc",
   "metadata": {},
   "outputs": [],
   "source": []
  }
 ],
 "metadata": {
  "kernelspec": {
   "display_name": "venv (3.11.7)",
   "language": "python",
   "name": "python3"
  },
  "language_info": {
   "codemirror_mode": {
    "name": "ipython",
    "version": 3
   },
   "file_extension": ".py",
   "mimetype": "text/x-python",
   "name": "python",
   "nbconvert_exporter": "python",
   "pygments_lexer": "ipython3",
   "version": "3.11.7"
  }
 },
 "nbformat": 4,
 "nbformat_minor": 5
}
