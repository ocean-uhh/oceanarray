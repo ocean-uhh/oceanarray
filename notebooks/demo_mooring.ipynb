{
 "cells": [
  {
   "cell_type": "markdown",
   "id": "c6a29764-f39c-431c-8e77-fbc6bfe20f01",
   "metadata": {},
   "source": [
    "# oceanarray demo - preparation\n",
    "\n",
    "This notebook walks through the instrument-level processing.\n"
   ]
  },
  {
   "cell_type": "code",
   "execution_count": null,
   "id": "6a1920f3",
   "metadata": {},
   "outputs": [],
   "source": [
    "from pathlib import Path\n",
    "import numpy as np\n",
    "import gsw\n",
    "import xarray as xr\n",
    "import numpy as np\n",
    "import matplotlib.pyplot as plt\n",
    "from oceanarray import readers, plotters, tools, convertOS, writers, mooring\n",
    "from oceanarray import rapid_interp\n"
   ]
  },
  {
   "cell_type": "markdown",
   "id": "4ad6e0e5",
   "metadata": {
    "vscode": {
     "languageId": "javascript"
    }
   },
   "source": [
    "## Stack instruments on a mooring"
   ]
  },
  {
   "cell_type": "code",
   "execution_count": null,
   "id": "ce860d75",
   "metadata": {},
   "outputs": [],
   "source": [
    "data_dir = Path(\"..\", \"data\")\n",
    "files = list(data_dir.glob(\"OS_wb2_9_201114_P.nc\"))\n",
    "print(files)\n",
    "ds_stack = xr.open_dataset(files[0])\n",
    "\n",
    "#ds_list_OS = readers.load_dataset(files)\n",
    "\n",
    "#ds_stack = mooring.combine_mooring_OS(ds_list_OS)\n",
    "#ds_stack"
   ]
  },
  {
   "cell_type": "markdown",
   "id": "c87567a6",
   "metadata": {
    "vscode": {
     "languageId": "javascript"
    }
   },
   "source": [
    "## Step 1: Grid in time\n",
    "\n",
    "In this case, we are filtering with a 2-day 6th order Butterworth filter, then linearly interpolating onto a regular 12-hour grid."
   ]
  },
  {
   "cell_type": "code",
   "execution_count": null,
   "id": "b824bf8c",
   "metadata": {},
   "outputs": [],
   "source": [
    "ds_filt = mooring.filter_all_time_vars(ds_stack)\n",
    "ds_12h = mooring.interp_to_12hour_grid(ds_filt)\n",
    "ds_12h"
   ]
  },
  {
   "cell_type": "code",
   "execution_count": null,
   "id": "b3b8cad7",
   "metadata": {},
   "outputs": [],
   "source": [
    "# Plot the temperature time series by depth\n",
    "plotters.plot_timeseries_by_depth(ds_12h, var=\"CNDC\")"
   ]
  },
  {
   "cell_type": "markdown",
   "id": "dd63c496",
   "metadata": {},
   "source": [
    "plotters.plot_timeseries_by_depth(ds_12h, var=\"PRES\")"
   ]
  },
  {
   "cell_type": "markdown",
   "id": "dcd5ace6",
   "metadata": {},
   "source": [
    "## Step 2: Grid vertically"
   ]
  },
  {
   "cell_type": "code",
   "execution_count": null,
   "id": "9430b5f1",
   "metadata": {},
   "outputs": [],
   "source": [
    "clim_path = Path(\"../data/climatology_WB2.nc\")\n",
    "ds_clim = xr.open_dataset(clim_path)\n",
    "# plot the climatology\n",
    "# Plot the climatology\n",
    "fig, ax = plt.subplots(1, 2, figsize=(12, 3))\n",
    "plotters.plot_climatology(ds_clim, clim_ds_smoothed=ds_clim,var=\"dTdp\", fig=fig, ax=ax[0])\n",
    "plotters.plot_climatology(ds_clim, clim_ds_smoothed=ds_clim, var=\"dSdp\", fig=fig, ax=ax[1])"
   ]
  },
  {
   "cell_type": "code",
   "execution_count": null,
   "id": "60fdf8e1",
   "metadata": {},
   "outputs": [],
   "source": [
    "# The climatology is in SA and CT, so we need to convert our data\n",
    "# Maybe for similarity with RAPID, we shoudl convert the climatology to T and S\n",
    "ds_clim"
   ]
  },
  {
   "cell_type": "code",
   "execution_count": null,
   "id": "99f2d70f",
   "metadata": {},
   "outputs": [],
   "source": [
    "pmax = float(ds_12h.PRES.max())\n",
    "print(\"Maximum pressure in ds_interp:\", pmax)\n",
    "\n",
    "pmax = max(ds_12h.PRES.max(), 3900)\n",
    "print(\"Maximum pressure after adjustment:\", pmax)\n",
    "\n",
    "pgrid = rapid_interp.spacing(0, pmax, 20)\n",
    "\n",
    "SP = gsw.SP_from_C(ds_12h[\"CNDC\"], ds_12h[\"TEMP\"], ds_12h[\"PRES\"])\n",
    "SA = gsw.SA_from_SP(SP, ds_12h[\"PRES\"], ds_12h[\"LONGITUDE\"], ds_12h[\"LATITUDE\"])\n",
    "CT = gsw.CT_from_t(SA, ds_12h[\"TEMP\"], ds_12h[\"PRES\"])\n",
    "ds_12h = ds_12h.assign(SP=((\"TIME\", \"DEPTH\", \"LATITUDE\", \"LONGITUDE\"), SP.data),\n",
    "    SA=((\"TIME\", \"DEPTH\", \"LATITUDE\", \"LONGITUDE\"), SA.data),\n",
    "    CT=((\"TIME\", \"DEPTH\", \"LATITUDE\", \"LONGITUDE\"), CT.data))\n",
    "lat = float(ds_12h[\"LATITUDE\"].values)\n",
    "lon = float(ds_12h[\"LONGITUDE\"].values)\n",
    "\n",
    "ds_12h = ds_12h.squeeze(dim=[\"LATITUDE\", \"LONGITUDE\"], drop=True)\n",
    "ds_12h = ds_12h.assign_coords(LATITUDE=(\"TIME\", [lat] * ds_12h.dims[\"TIME\"]))\n",
    "ds_12h = ds_12h.assign_coords(LONGITUDE=(\"TIME\", [lon] * ds_12h.dims[\"TIME\"]))\n",
    "\n",
    "ds_interp = rapid_interp.interpolate_profiles(ds_12h, ds_clim, time_key=\"TIME\", p_grid=pgrid)\n",
    "ds_12h\n"
   ]
  },
  {
   "cell_type": "code",
   "execution_count": null,
   "id": "e7799d72",
   "metadata": {
    "vscode": {
     "languageId": "javascript"
    }
   },
   "outputs": [],
   "source": [
    "ds_interp"
   ]
  },
  {
   "cell_type": "code",
   "execution_count": null,
   "id": "ab26f061",
   "metadata": {},
   "outputs": [],
   "source": [
    "\n",
    "\n",
    "plotters.plot_timeseries_by_depth(ds_12h, var=\"PRES\")\n",
    "plotters.pcolor_timeseries_by_depth(ds_interp, var=\"SA\")"
   ]
  },
  {
   "cell_type": "code",
   "execution_count": null,
   "id": "68780c36",
   "metadata": {},
   "outputs": [],
   "source": [
    "# Check the profiles\n",
    "plotters.scatter_profile_vs_PRES(ds_interp, ds_12h, var=\"SA\")"
   ]
  }
 ],
 "metadata": {
  "kernelspec": {
   "display_name": "venv",
   "language": "python",
   "name": "python3"
  },
  "language_info": {
   "codemirror_mode": {
    "name": "ipython",
    "version": 3
   },
   "file_extension": ".py",
   "mimetype": "text/x-python",
   "name": "python",
   "nbconvert_exporter": "python",
   "pygments_lexer": "ipython3",
   "version": "3.11.7"
  }
 },
 "nbformat": 4,
 "nbformat_minor": 5
}
