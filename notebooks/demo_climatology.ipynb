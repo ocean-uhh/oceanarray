{
 "cells": [
  {
   "cell_type": "markdown",
   "id": "c6a29764-f39c-431c-8e77-fbc6bfe20f01",
   "metadata": {},
   "source": [
    "# oceanarray demo - build climatology\n",
    "\n",
    "This notebook walks through the method to build a climatology for the vertical interpolation\n"
   ]
  },
  {
   "cell_type": "code",
   "execution_count": null,
   "id": "6a1920f3",
   "metadata": {},
   "outputs": [],
   "source": [
    "from pathlib import Path\n",
    "import numpy as np\n",
    "import xarray as xr\n",
    "import numpy as np\n",
    "import matplotlib.pyplot as plt\n",
    "from oceanarray import readers, plotters, tools, convertOS, writers, mooring, rapid_interp\n"
   ]
  },
  {
   "cell_type": "markdown",
   "id": "4ad6e0e5",
   "metadata": {
    "vscode": {
     "languageId": "javascript"
    }
   },
   "source": [
    "## Load hydrographic data"
   ]
  },
  {
   "cell_type": "code",
   "execution_count": null,
   "id": "8236a3f4",
   "metadata": {},
   "outputs": [],
   "source": [
    "data_dir = Path(\"..\", \"data\")\n",
    "hydro_data_path = data_dir / \"training_data_WB2.nc\"\n",
    "\n",
    "ds_hydro = xr.open_dataset(hydro_data_path)\n",
    "ds_hydro"
   ]
  },
  {
   "cell_type": "markdown",
   "id": "ce860d75",
   "metadata": {},
   "source": [
    "### Subsample to 20dbar"
   ]
  },
  {
   "cell_type": "code",
   "execution_count": null,
   "id": "5c3d8c29",
   "metadata": {},
   "outputs": [],
   "source": [
    "\n",
    "pmax = float(ds_hydro.PRES.max())\n",
    "print(\"Maximum pressure in ds_interp:\", pmax)\n",
    "\n",
    "pmax = max(ds_hydro.PRES.max(), 3900)\n",
    "print(\"Maximum pressure after adjustment:\", pmax)\n",
    "\n",
    "pgrid = rapid_interp.spacing(0, pmax, 20)\n",
    "ds_standard = tools.process_dataset(ds_hydro, pgrid=pgrid)\n",
    "ds_standard\n"
   ]
  },
  {
   "cell_type": "markdown",
   "id": "a605911a",
   "metadata": {},
   "source": [
    "### Calculate a climatology"
   ]
  },
  {
   "cell_type": "code",
   "execution_count": null,
   "id": "6804cd8f",
   "metadata": {},
   "outputs": [],
   "source": [
    "# Build the climatology\n",
    "clim_ds = rapid_interp.build_climatology(ds_standard, pgrid)\n",
    "\n",
    "# Smooth the climatology\n",
    "clim_ds_smoothed = rapid_interp.smooth_climatology(clim_ds, window=3)\n",
    "\n",
    "# Plot the climatology\n",
    "fig, ax = plt.subplots(1, 2, figsize=(12, 3))\n",
    "plotters.plot_climatology(clim_ds, clim_ds_smoothed=clim_ds_smoothed,var=\"dTdp\", fig=fig, ax=ax[0])\n",
    "plotters.plot_climatology(clim_ds, clim_ds_smoothed=clim_ds_smoothed, var=\"dSdp\", fig=fig, ax=ax[1])"
   ]
  },
  {
   "cell_type": "code",
   "execution_count": null,
   "id": "dcd5ace6",
   "metadata": {},
   "outputs": [],
   "source": [
    "## Fill the gaps in the climatology\n",
    "clim_ds_smoothed\n",
    "\n",
    "# Plot the seasonal cycle at each temperature bin for dTdp and dSdp\n",
    "fig2, ax2 = plt.subplots(1, 2, figsize=(14, 5), sharey=True)\n",
    "\n",
    "for i, var in enumerate(['dTdp', 'dSdp']):\n",
    "    # Each column is a temperature bin, each row is a month\n",
    "    data = clim_ds_smoothed[var]\n",
    "    for temp_idx, temp_val in enumerate(clim_ds_smoothed.TEMP.values):\n",
    "        ax2[i].plot(clim_ds_smoothed['month'], data[:, temp_idx], alpha=0.3)\n",
    "    ax2[i].set_title(f'Seasonal Cycle at Each Temperature Bin: {var}')\n",
    "    ax2[i].set_xlabel('Month')\n",
    "    ax2[i].set_ylabel(var)\n",
    "    ax2[i].grid(True)\n",
    "\n",
    "plt.tight_layout()\n",
    "plt.show()\n",
    "\n",
    "# At east temperature, linearly interpolate the climatology to fill gaps\n",
    "for i, var in enumerate(['dTdp', 'dSdp']):\n",
    "    clim_ds_smoothed[var] = clim_ds_smoothed[var].interpolate_na(dim='TEMP', method='linear')\n",
    "# Plot the filled climatology\n",
    "fig3, ax3 = plt.subplots(1, 2, figsize=(12, 3))\n",
    "plotters.plot_climatology(clim_ds_smoothed, var=\"dTdp\", fig=fig3, ax=ax3[0])\n",
    "plotters.plot_climatology(clim_ds_smoothed, var=\"dSdp\", fig=fig3, ax=ax3[1])\n",
    "plt.tight_layout()\n",
    "plt.show()\n",
    "\n",
    "# For temperatures below 4 degrees, replace the seasonal cycle with the average climatology\n",
    "for i, var in enumerate(['dTdp', 'dSdp']):\n",
    "    mask = clim_ds_smoothed.TEMP < 4\n",
    "    clim_ds_smoothed[var] = clim_ds_smoothed[var].where(~mask, clim_ds_smoothed[var].mean(dim='month'))\n",
    "# Plot the final climatology\n",
    "fig4, ax4 = plt.subplots(1, 2, figsize=(12, 3))\n",
    "plotters.plot_climatology(clim_ds_smoothed, var=\"dTdp\", fig=fig4, ax=ax4[0])\n",
    "plotters.plot_climatology(clim_ds_smoothed, var=\"dSdp\", fig=fig4, ax=ax4[1])\n",
    "plt.tight_layout()\n",
    "plt.show()"
   ]
  },
  {
   "cell_type": "code",
   "execution_count": null,
   "id": "e5af6639",
   "metadata": {},
   "outputs": [],
   "source": [
    "### Save the climatology\n",
    "\n",
    "clim_path = data_dir / \"climatology_WB2.nc\"\n",
    "print(\"Saving climatology to:\", clim_path)\n",
    "if clim_path.exists():\n",
    "    clim_path.unlink()\n",
    "rapid_interp.save_climatology(clim_ds_smoothed, clim_path)"
   ]
  },
  {
   "cell_type": "code",
   "execution_count": null,
   "id": "c3f56ba3",
   "metadata": {},
   "outputs": [],
   "source": [
    "fig_offset, ax_offset = plt.subplots(1, 1, figsize=(8, 5))\n",
    "\n",
    "for month in clim_ds_smoothed['month'].values:\n",
    "    dtdp = clim_ds_smoothed['dTdp'].sel(month=month)\n",
    "    # Offset each month by 0.01 * (month-1)\n",
    "    offset = 0.01 * (month - 1)\n",
    "    ax_offset.plot(clim_ds_smoothed['TEMP'], dtdp + offset, label=f'Month {month}')\n",
    "\n",
    "ax_offset.set_xlabel('Temperature (°C)')\n",
    "ax_offset.set_ylabel('dTdp (per dbar) + offset')\n",
    "ax_offset.set_title('Monthly dTdp Climatology with Offset')\n",
    "ax_offset.legend(ncol=2, fontsize='small')\n",
    "plt.tight_layout()\n",
    "plt.show()"
   ]
  },
  {
   "cell_type": "code",
   "execution_count": null,
   "id": "32ae7942",
   "metadata": {},
   "outputs": [],
   "source": []
  }
 ],
 "metadata": {
  "kernelspec": {
   "display_name": "venv",
   "language": "python",
   "name": "python3"
  },
  "language_info": {
   "codemirror_mode": {
    "name": "ipython",
    "version": 3
   },
   "file_extension": ".py",
   "mimetype": "text/x-python",
   "name": "python",
   "nbconvert_exporter": "python",
   "pygments_lexer": "ipython3",
   "version": "3.11.7"
  }
 },
 "nbformat": 4,
 "nbformat_minor": 5
}
