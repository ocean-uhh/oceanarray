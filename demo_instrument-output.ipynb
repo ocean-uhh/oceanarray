{
 "cells": [
  {
   "cell_type": "markdown",
   "id": "c6a29764-f39c-431c-8e77-fbc6bfe20f01",
   "metadata": {},
   "source": [
    "# Demo: Instrument-Level Processing (Compact Workflow)\n",
    "\n",
    "This notebook walks through the complete instrument-level processing pipeline in the oceanarray codebase, from raw files to science-ready datasets. It demonstrates the same processing steps as `demo_stage1.ipynb` and `demo_stage2.ipynb` but in a more compact, streamlined format.\n",
    "\n",
    "## Processing Overview\n",
    "\n",
    "### Stage 1: Format Conversion (`*_raw.nc`)\n",
    "- **Purpose**: Convert raw instrument files to standardized NetCDF format\n",
    "- **Input**: Raw instrument files (`.cnv`, `.rsk`, `.dat`, `.mat`)  \n",
    "- **Output**: Standardized NetCDF files (`*_raw.nc`)\n",
    "- **Processing**: Uses `oceanarray.stage1.MooringProcessor` - same as `demo_stage1.ipynb`\n",
    "\n",
    "### Stage 2: Temporal Corrections & Trimming (`*_use.nc`)\n",
    "- **Purpose**: Apply clock corrections and trim to deployment periods\n",
    "- **Input**: Stage1 files (`*_raw.nc`) + updated YAML with clock offsets\n",
    "- **Output**: Time-corrected files (`*_use.nc`)\n",
    "- **Processing**: Uses `oceanarray.stage2.process_multiple_moorings_stage2` - same as `demo_stage2.ipynb`\n",
    "\n",
    "### Stage 3: Calibrations & Corrections (Optional)\n",
    "- **Purpose**: Apply sensor-specific calibrations and corrections\n",
    "- **Status**: Commented out sections showing how to apply additional calibrations\n",
    "\n",
    "### Stage 4: Format Conversion (Optional)\n",
    "- **Purpose**: Convert to OceanSites or other standardized formats\n",
    "- **Status**: Commented out sections for format conversion\n",
    "\n",
    "## Key Features\n",
    "\n",
    "- **Compact Format**: Covers the same ground as separate stage notebooks in one place\n",
    "- **Instrument-Level Processing**: Each instrument processed independently before mooring-level coordination\n",
    "- **Multiple Instrument Types**: Handles various instrument types with analysis functions\n",
    "- **Visualization**: Includes plotting and analysis of processed results\n",
    "- **Metadata Management**: YAML configuration files drive processing parameters\n",
    "\n",
    "## Comparison with Other Notebooks\n",
    "\n",
    "- **vs demo_stage1.ipynb**: Same Stage1 processing but more concise\n",
    "- **vs demo_stage2.ipynb**: Same Stage2 processing but integrated workflow  \n",
    "- **vs demo_step1.ipynb**: Focuses on individual instruments rather than mooring-level time gridding\n",
    "\n",
    "Choose this notebook if you want a complete instrument processing workflow in one place, or use the separate stage notebooks for more detailed exploration of each processing step.\n",
    "\n",
    "Version: 1.0  \n",
    "Date: 2025-01-15"
   ]
  },
  {
   "cell_type": "code",
   "execution_count": 1,
   "id": "6a1920f3",
   "metadata": {
    "execution": {
     "iopub.execute_input": "2025-09-12T20:28:16.567232Z",
     "iopub.status.busy": "2025-09-12T20:28:16.567070Z",
     "iopub.status.idle": "2025-09-12T20:28:18.665943Z",
     "shell.execute_reply": "2025-09-12T20:28:18.665314Z"
    }
   },
   "outputs": [
    {
     "name": "stderr",
     "output_type": "stream",
     "text": [
      "/home/runner/micromamba/envs/TEST/lib/python3.13/site-packages/pycnv/pycnv.py:7: UserWarning: pkg_resources is deprecated as an API. See https://setuptools.pypa.io/en/latest/pkg_resources.html. The pkg_resources package is slated for removal as early as 2025-11-30. Refrain from using this package or pin to Setuptools<81.\n",
      "  import pkg_resources\n"
     ]
    }
   ],
   "source": [
    "from pathlib import Path\n",
    "from datetime import datetime\n",
    "\n",
    "import os\n",
    "import sys\n",
    "import yaml\n",
    "import scipy.io\n",
    "import numpy as np\n",
    "import pandas as pd\n",
    "import matplotlib.pyplot as plt\n",
    "import xarray as xr\n",
    "\n",
    "from oceanarray.stage1 import MooringProcessor, process_multiple_moorings, stage1_mooring\n",
    "from oceanarray import writers\n",
    "from ctd_tools.readers import NortekAsciiReader, AdcpMatlabReader\n",
    "from ctd_tools.plotters import TimeSeriesPlotter\n",
    "from ctd_tools.writers import NetCdfWriter\n"
   ]
  },
  {
   "cell_type": "markdown",
   "id": "3e40a0b1",
   "metadata": {},
   "source": [
    "## Configuration\n",
    " \n",
    "Set up the base directory and mooring lists for processing"
   ]
  },
  {
   "cell_type": "code",
   "execution_count": 2,
   "id": "dff9ed08",
   "metadata": {
    "execution": {
     "iopub.execute_input": "2025-09-12T20:28:18.667999Z",
     "iopub.status.busy": "2025-09-12T20:28:18.667644Z",
     "iopub.status.idle": "2025-09-12T20:28:18.670873Z",
     "shell.execute_reply": "2025-09-12T20:28:18.670428Z"
    }
   },
   "outputs": [
    {
     "name": "stdout",
     "output_type": "stream",
     "text": [
      "Base directory: ../data/\n",
      "Processing 1 moorings: ['dsE_1_2018']\n"
     ]
    }
   ],
   "source": [
    "# Base directory containing the mooring data\n",
    "basedir = '../data/'\n",
    "\n",
    "# Define mooring lists\n",
    "single_test = ['dsE_1_2018']\n",
    "\n",
    "# Choose which set to process\n",
    "moorlist = single_test\n",
    "\n",
    "print(f\"Base directory: {basedir}\")\n",
    "print(f\"Processing {len(moorlist)} moorings: {moorlist}\")"
   ]
  },
  {
   "cell_type": "markdown",
   "id": "58fd7f96",
   "metadata": {},
   "source": [
    "## Stage 1: Load raw instrument files and convert to *_raw.nc\n"
   ]
  },
  {
   "cell_type": "code",
   "execution_count": 3,
   "id": "ed615f11",
   "metadata": {
    "execution": {
     "iopub.execute_input": "2025-09-12T20:28:18.672601Z",
     "iopub.status.busy": "2025-09-12T20:28:18.672430Z",
     "iopub.status.idle": "2025-09-12T20:28:20.079918Z",
     "shell.execute_reply": "2025-09-12T20:28:20.079400Z"
    }
   },
   "outputs": [
    {
     "name": "stderr",
     "output_type": "stream",
     "text": [
      "INFO:pycnv: Opening file: ../data/moor/raw/msm76_2018/sbe56/DSE18_SBE05606363_2018_08_27.cnv\n"
     ]
    },
    {
     "name": "stderr",
     "output_type": "stream",
     "text": [
      "CRITICAL:pycnv:Could not open file:../data/moor/raw/msm76_2018/sbe56/DSE18_SBE05606363_2018_08_27.cnv (Exception: [Errno 2] No such file or directory: '../data/moor/raw/msm76_2018/sbe56/DSE18_SBE05606363_2018_08_27.cnv')\n"
     ]
    },
    {
     "name": "stderr",
     "output_type": "stream",
     "text": [
      "INFO:pycnv: Opening file: ../data/moor/raw/msm76_2018/sbe16/DSE18_sbe16_2419efw1.cnv\n"
     ]
    },
    {
     "name": "stderr",
     "output_type": "stream",
     "text": [
      "WARNING:pycnv:Could not parse custom header ** recovery DS-E-18\n"
     ]
    },
    {
     "name": "stderr",
     "output_type": "stream",
     "text": [
      "WARNING:pycnv:Could not compute datetime dates based on timeM\n"
     ]
    },
    {
     "name": "stderr",
     "output_type": "stream",
     "text": [
      "INFO:pycnv:Dates computed based on timeS\n"
     ]
    },
    {
     "name": "stdout",
     "output_type": "stream",
     "text": [
      "\n",
      "============================================================\n",
      "Processing mooring: dsE_1_2018\n",
      "============================================================\n",
      "Processing mooring: dsE_1_2018\n",
      "EXCEPT: Error reading file moor/raw/msm76_2018/sbe56/DSE18_SBE05606363_2018_08_27.cnv: [Errno 2] No such file or directory: '../data/moor/raw/msm76_2018/sbe56/DSE18_SBE05606363_2018_08_27.cnv'\n",
      "Date\n",
      "Computing date\n"
     ]
    },
    {
     "name": "stderr",
     "output_type": "stream",
     "text": [
      "INFO:pycnv: Opening file: ../data/moor/raw/msm76_2018/sbe56/DSE18_SBE05606401_2018_08_27.cnv\n"
     ]
    },
    {
     "name": "stderr",
     "output_type": "stream",
     "text": [
      "CRITICAL:pycnv:Could not open file:../data/moor/raw/msm76_2018/sbe56/DSE18_SBE05606401_2018_08_27.cnv (Exception: [Errno 2] No such file or directory: '../data/moor/raw/msm76_2018/sbe56/DSE18_SBE05606401_2018_08_27.cnv')\n"
     ]
    },
    {
     "name": "stderr",
     "output_type": "stream",
     "text": [
      "INFO:pycnv: Opening file: ../data/moor/raw/msm76_2018/sbe56/DSE18_SBE05606402_2018_08_27.cnv\n"
     ]
    },
    {
     "name": "stderr",
     "output_type": "stream",
     "text": [
      "CRITICAL:pycnv:Could not open file:../data/moor/raw/msm76_2018/sbe56/DSE18_SBE05606402_2018_08_27.cnv (Exception: [Errno 2] No such file or directory: '../data/moor/raw/msm76_2018/sbe56/DSE18_SBE05606402_2018_08_27.cnv')\n"
     ]
    },
    {
     "name": "stderr",
     "output_type": "stream",
     "text": [
      "INFO:pycnv: Opening file: ../data/moor/raw/msm76_2018/sbe56/DSE18_SBE05608482_2018_08_27.cnv\n"
     ]
    },
    {
     "name": "stderr",
     "output_type": "stream",
     "text": [
      "WARNING:pycnv:Could not parse custom header * ** recovery DS-E-18\n"
     ]
    },
    {
     "name": "stderr",
     "output_type": "stream",
     "text": [
      "WARNING:pycnv:parse_header() start_time: Could not decode time: ( Aug 11 2018 12:00:00                )unconverted data remains:                 locale('C', 'UTF-8')\n"
     ]
    },
    {
     "name": "stderr",
     "output_type": "stream",
     "text": [
      "WARNING:pycnv:parse_header() start_time: Could not decode time: ( Aug 11 2018 12:00:00                )unconverted data remains:                 locale(None, None)\n"
     ]
    },
    {
     "name": "stdout",
     "output_type": "stream",
     "text": [
      "EXCEPT: Error reading file moor/raw/msm76_2018/sbe16/DSE18_sbe16_2419efw1.cnv: Variable 'depth': Could not convert tuple of form (dims, data[, attrs, encoding]): (['time'], None) to Variable.\n",
      "EXCEPT: Error reading file moor/raw/msm76_2018/sbe56/DSE18_SBE05606401_2018_08_27.cnv: [Errno 2] No such file or directory: '../data/moor/raw/msm76_2018/sbe56/DSE18_SBE05606401_2018_08_27.cnv'\n",
      "EXCEPT: Error reading file moor/raw/msm76_2018/sbe56/DSE18_SBE05606402_2018_08_27.cnv: [Errno 2] No such file or directory: '../data/moor/raw/msm76_2018/sbe56/DSE18_SBE05606402_2018_08_27.cnv'\n"
     ]
    },
    {
     "name": "stderr",
     "output_type": "stream",
     "text": [
      "WARNING:pycnv:Could not compute datetime dates based on timeM\n"
     ]
    },
    {
     "name": "stderr",
     "output_type": "stream",
     "text": [
      "WARNING:pycnv:Could not compute datetime dates based on timeS\n"
     ]
    },
    {
     "name": "stderr",
     "output_type": "stream",
     "text": [
      "WARNING:pycnv:Could not compute datetime dates based on start_date and time_interval\n"
     ]
    },
    {
     "name": "stderr",
     "output_type": "stream",
     "text": [
      "INFO:pycnv: Opening file: ../data/moor/raw/msm76_2018/sbe56/DSE18_SBE05606365_2018_08_27.cnv\n"
     ]
    },
    {
     "name": "stderr",
     "output_type": "stream",
     "text": [
      "CRITICAL:pycnv:Could not open file:../data/moor/raw/msm76_2018/sbe56/DSE18_SBE05606365_2018_08_27.cnv (Exception: [Errno 2] No such file or directory: '../data/moor/raw/msm76_2018/sbe56/DSE18_SBE05606365_2018_08_27.cnv')\n"
     ]
    },
    {
     "name": "stderr",
     "output_type": "stream",
     "text": [
      "INFO:pycnv: Opening file: ../data/moor/raw/msm76_2018/sbe56/DSE18_SBE05606409_2018_08_27.cnv\n"
     ]
    },
    {
     "name": "stderr",
     "output_type": "stream",
     "text": [
      "CRITICAL:pycnv:Could not open file:../data/moor/raw/msm76_2018/sbe56/DSE18_SBE05606409_2018_08_27.cnv (Exception: [Errno 2] No such file or directory: '../data/moor/raw/msm76_2018/sbe56/DSE18_SBE05606409_2018_08_27.cnv')\n"
     ]
    },
    {
     "name": "stderr",
     "output_type": "stream",
     "text": [
      "INFO:pycnv: Opening file: ../data/moor/raw/msm76_2018/sbe56/DSE18_SBE05606397_2018_08_27.cnv\n"
     ]
    },
    {
     "name": "stderr",
     "output_type": "stream",
     "text": [
      "CRITICAL:pycnv:Could not open file:../data/moor/raw/msm76_2018/sbe56/DSE18_SBE05606397_2018_08_27.cnv (Exception: [Errno 2] No such file or directory: '../data/moor/raw/msm76_2018/sbe56/DSE18_SBE05606397_2018_08_27.cnv')\n"
     ]
    },
    {
     "name": "stderr",
     "output_type": "stream",
     "text": [
      "INFO:pycnv: Opening file: ../data/moor/raw/msm76_2018/sbe56/DSE18_SBE05606366_2018_08_27.cnv\n"
     ]
    },
    {
     "name": "stderr",
     "output_type": "stream",
     "text": [
      "CRITICAL:pycnv:Could not open file:../data/moor/raw/msm76_2018/sbe56/DSE18_SBE05606366_2018_08_27.cnv (Exception: [Errno 2] No such file or directory: '../data/moor/raw/msm76_2018/sbe56/DSE18_SBE05606366_2018_08_27.cnv')\n"
     ]
    },
    {
     "name": "stderr",
     "output_type": "stream",
     "text": [
      "INFO:pycnv: Opening file: ../data/moor/raw/msm76_2018/sbe56/DSE18_SBE05606394_2018_08_27.cnv\n"
     ]
    },
    {
     "name": "stderr",
     "output_type": "stream",
     "text": [
      "CRITICAL:pycnv:Could not open file:../data/moor/raw/msm76_2018/sbe56/DSE18_SBE05606394_2018_08_27.cnv (Exception: [Errno 2] No such file or directory: '../data/moor/raw/msm76_2018/sbe56/DSE18_SBE05606394_2018_08_27.cnv')\n"
     ]
    },
    {
     "name": "stderr",
     "output_type": "stream",
     "text": [
      "INFO:pycnv: Opening file: ../data/moor/raw/msm76_2018/sbe56/DSE18_SBE05606370_2018_08_27.cnv\n"
     ]
    },
    {
     "name": "stderr",
     "output_type": "stream",
     "text": [
      "CRITICAL:pycnv:Could not open file:../data/moor/raw/msm76_2018/sbe56/DSE18_SBE05606370_2018_08_27.cnv (Exception: [Errno 2] No such file or directory: '../data/moor/raw/msm76_2018/sbe56/DSE18_SBE05606370_2018_08_27.cnv')\n"
     ]
    },
    {
     "name": "stderr",
     "output_type": "stream",
     "text": [
      "INFO:pycnv: Opening file: ../data/moor/raw/msm76_2018/microcat/DSE18_SBE37SM_RS232_03707518_2018_08_26efw1.cnv\n"
     ]
    },
    {
     "name": "stdout",
     "output_type": "stream",
     "text": [
      "Date\n",
      "Computing date\n",
      "EXCEPT: Error reading file moor/raw/msm76_2018/sbe56/DSE18_SBE05608482_2018_08_27.cnv: 'NoneType' object has no attribute 'strftime'\n",
      "EXCEPT: Error reading file moor/raw/msm76_2018/sbe56/DSE18_SBE05606365_2018_08_27.cnv: [Errno 2] No such file or directory: '../data/moor/raw/msm76_2018/sbe56/DSE18_SBE05606365_2018_08_27.cnv'\n",
      "EXCEPT: Error reading file moor/raw/msm76_2018/sbe56/DSE18_SBE05606409_2018_08_27.cnv: [Errno 2] No such file or directory: '../data/moor/raw/msm76_2018/sbe56/DSE18_SBE05606409_2018_08_27.cnv'\n",
      "EXCEPT: Error reading file moor/raw/msm76_2018/sbe56/DSE18_SBE05606397_2018_08_27.cnv: [Errno 2] No such file or directory: '../data/moor/raw/msm76_2018/sbe56/DSE18_SBE05606397_2018_08_27.cnv'\n",
      "EXCEPT: Error reading file moor/raw/msm76_2018/sbe56/DSE18_SBE05606366_2018_08_27.cnv: [Errno 2] No such file or directory: '../data/moor/raw/msm76_2018/sbe56/DSE18_SBE05606366_2018_08_27.cnv'\n",
      "EXCEPT: Error reading file moor/raw/msm76_2018/sbe56/DSE18_SBE05606394_2018_08_27.cnv: [Errno 2] No such file or directory: '../data/moor/raw/msm76_2018/sbe56/DSE18_SBE05606394_2018_08_27.cnv'\n",
      "EXCEPT: Error reading file moor/raw/msm76_2018/sbe56/DSE18_SBE05606370_2018_08_27.cnv: [Errno 2] No such file or directory: '../data/moor/raw/msm76_2018/sbe56/DSE18_SBE05606370_2018_08_27.cnv'\n",
      "EXCEPT: Error reading file moor/raw/msm76_2018/sbe16/DSE18_sbe16_2418.hex: Unknown file type: sbe-hex\n",
      "EXCEPT: Error reading file moor/raw/msm76_2018/tr1050/DSE18_013889_20180827_1349.mat: Unknown file type: rbr-matlab\n",
      "EXCEPT: Error reading file moor/raw/msm76_2018/rbrsolo/DSE18_101651_20180827_1541.rsk: no such table: dbInfo\n",
      "EXCEPT: Error reading file moor/raw/msm76_2018/tr1050/DSE18_015580_20180827_1403.mat: Unknown file type: rbr-matlab\n",
      "-->   Processing rbrsolo: moor/raw/msm76_2018/rbrsolo/DSE18_101647_20180827_1551.rsk\n",
      "Creating output file: moor/proc/dsE_1_2018/rbrsolo/dsE_1_2018_101647_raw.nc\n",
      "ERROR: Failed to process moor/raw/msm76_2018/rbrsolo/DSE18_101647_20180827_1551.rsk: Invalid value for attr 'processor_input_file_type': <function RbrRskLegacyReader.format_name at 0x7f259f29b9c0>. For serialization to netCDF files, its value must be of one of the following types: str, Number, ndarray, number, list, tuple, bytes\n",
      "EXCEPT: Error reading file moor/raw/msm76_2018/tr1050/DSE18_013874_20180827_1410.mat: Unknown file type: rbr-matlab\n",
      "EXCEPT: Error reading file moor/raw/msm76_2018/rbrsolo/DSE18_101645_20180827_1553.rsk: no such table: dbInfo\n",
      "EXCEPT: Error reading file moor/raw/msm76_2018/tr1050/DSE18_015574_20180827_1407.mat: Unknown file type: rbr-matlab\n",
      "EXCEPT: Error reading file moor/raw/msm76_2018/rbrsolo/DSE18_101646_20180827_1548.rsk: no such table: dbInfo\n",
      "EXCEPT: Error reading file moor/raw/msm76_2018/tr1050/DSE18_015577_20180827_1338.mat: Unknown file type: rbr-matlab\n"
     ]
    },
    {
     "name": "stderr",
     "output_type": "stream",
     "text": [
      "WARNING:pycnv:Could not compute datetime dates based on timeM\n"
     ]
    },
    {
     "name": "stderr",
     "output_type": "stream",
     "text": [
      "WARNING:pycnv:Could not compute datetime dates based on timeS\n"
     ]
    },
    {
     "name": "stderr",
     "output_type": "stream",
     "text": [
      "INFO:pycnv:Dates computed based on start_date and time_interval\n"
     ]
    },
    {
     "name": "stdout",
     "output_type": "stream",
     "text": [
      "Date\n",
      "Computing date\n"
     ]
    },
    {
     "name": "stderr",
     "output_type": "stream",
     "text": [
      "INFO:pycnv: Opening file: ../data/moor/raw/msm76_2018/sbe56/DSE18_SBE05606364_2018_08_27.cnv\n"
     ]
    },
    {
     "name": "stderr",
     "output_type": "stream",
     "text": [
      "CRITICAL:pycnv:Could not open file:../data/moor/raw/msm76_2018/sbe56/DSE18_SBE05606364_2018_08_27.cnv (Exception: [Errno 2] No such file or directory: '../data/moor/raw/msm76_2018/sbe56/DSE18_SBE05606364_2018_08_27.cnv')\n"
     ]
    },
    {
     "name": "stdout",
     "output_type": "stream",
     "text": [
      "-->   Processing microcat: moor/raw/msm76_2018/microcat/DSE18_SBE37SM_RS232_03707518_2018_08_26efw1.cnv\n",
      "Creating output file: moor/proc/dsE_1_2018/microcat/dsE_1_2018_7518_raw.nc\n",
      "Removing variable: potential_temperature\n",
      "Removing variable: julian_days_offset\n",
      "Removing variable: density\n",
      "Removing coordinate: depth\n",
      "Removing coordinate: latitude\n",
      "Removing coordinate: longitude\n",
      "EXCEPT: Error reading file moor/raw/msm76_2018/sbe56/DSE18_SBE05606364_2018_08_27.cnv: [Errno 2] No such file or directory: '../data/moor/raw/msm76_2018/sbe56/DSE18_SBE05606364_2018_08_27.cnv'\n",
      "Completed processing: 1/23 instruments successful\n",
      "\n",
      "Result for dsE_1_2018: ✅ SUCCESS\n",
      "\n",
      "============================================================\n",
      "FINAL PROCESSING SUMMARY\n",
      "============================================================\n",
      "Successfully processed: 1/1 moorings\n",
      "✅ dsE_1_2018\n"
     ]
    }
   ],
   "source": [
    "# Initialize the processor\n",
    "processor = MooringProcessor(basedir)\n",
    "\n",
    "# Process each mooring individually with detailed output\n",
    "results = {}\n",
    "for mooring_name in moorlist:\n",
    "    print(f\"\\n{'='*60}\")\n",
    "    print(f\"Processing mooring: {mooring_name}\")\n",
    "    print(f\"{'='*60}\")\n",
    "\n",
    "    success = processor.process_mooring(mooring_name)\n",
    "    results[mooring_name] = success\n",
    "\n",
    "    status = \"✅ SUCCESS\" if success else \"❌ FAILED\"\n",
    "    print(f\"\\nResult for {mooring_name}: {status}\")\n",
    "\n",
    "# Print final summary\n",
    "print(f\"\\n{'='*60}\")\n",
    "print(\"FINAL PROCESSING SUMMARY\")\n",
    "print(f\"{'='*60}\")\n",
    "successful = sum(results.values())\n",
    "total = len(results)\n",
    "print(f\"Successfully processed: {successful}/{total} moorings\")\n",
    "\n",
    "for mooring, success in results.items():\n",
    "    status = \"✅\" if success else \"❌\"\n",
    "    print(f\"{status} {mooring}\")"
   ]
  },
  {
   "cell_type": "code",
   "execution_count": 4,
   "id": "6b1ecfad",
   "metadata": {
    "execution": {
     "iopub.execute_input": "2025-09-12T20:28:20.081679Z",
     "iopub.status.busy": "2025-09-12T20:28:20.081492Z",
     "iopub.status.idle": "2025-09-12T20:28:20.417462Z",
     "shell.execute_reply": "2025-09-12T20:28:20.416938Z"
    }
   },
   "outputs": [
    {
     "name": "stdout",
     "output_type": "stream",
     "text": [
      "\n",
      "Analyzing successful mooring: dsE_1_2018\n",
      "Analyzing processed files in: ../data/moor/proc/dsE_1_2018/microcat\n",
      "Found 1 NetCDF files:\n",
      "\n",
      "📄 Loading: dsE_1_2018_7518_raw.nc\n",
      "   Variables: ['temperature', 'salinity', 'conductivity', 'pressure', 'serial_number', 'InstrDepth', 'instrument', 'clock_offset', 'start_time', 'end_time']\n",
      "   Attributes: ['latitude', 'longitude', 'CreateTime', 'DataType', 'mooring_name', 'waterdepth', 'deployment_latitude', 'deployment_longitude', 'deployment_time', 'seabed_latitude', 'seabed_longitude', 'recovery_time']\n",
      "   Mooring: dsE_1_2018\n",
      "   Instrument: microcat\n",
      "   Serial: 7518\n"
     ]
    },
    {
     "data": {
      "image/png": "[encoded data removed]",
      "text/plain": [
       "<Figure size 1200x400 with 1 Axes>"
      ]
     },
     "metadata": {},
     "output_type": "display_data"
    },
    {
     "name": "stdout",
     "output_type": "stream",
     "text": [
      "   📊 Plot saved: dsE_1_2018_microcat_7518_temperature_raw.png\n",
      "Analyzing processed files in: ../data/moor/proc/dsE_1_2018/sbe16\n",
      "No NetCDF files found\n",
      "Analyzing processed files in: ../data/moor/proc/dsE_1_2018/sbe56\n",
      "No NetCDF files found\n"
     ]
    }
   ],
   "source": [
    "# Analyze processed files\n",
    "def analyze_processed_mooring(mooring_name, basedir, instrument_type='microcat'):\n",
    "    \"\"\"Analyze processed files for a specific mooring and instrument type.\"\"\"\n",
    "    proc_dir = Path(basedir) / 'moor/proc' / mooring_name / instrument_type\n",
    "    fig_dir = proc_dir\n",
    "\n",
    "    if not proc_dir.exists():\n",
    "        print(f\"Directory not found: {proc_dir}\")\n",
    "        return\n",
    "\n",
    "    print(f\"Analyzing processed files in: {proc_dir}\")\n",
    "\n",
    "    # Find all NetCDF files\n",
    "    nc_files = list(proc_dir.glob('*raw.nc'))\n",
    "    if not nc_files:\n",
    "        print(\"No NetCDF files found\")\n",
    "        return\n",
    "\n",
    "    print(f\"Found {len(nc_files)} NetCDF files:\")\n",
    "\n",
    "    for file_path in nc_files:\n",
    "        try:\n",
    "            print(f\"\\n📄 Loading: {file_path.name}\")\n",
    "\n",
    "            with xr.open_dataset(file_path) as dataset:\n",
    "                print(f\"   Variables: {list(dataset.data_vars)}\")\n",
    "                print(f\"   Attributes: {list(dataset.attrs.keys())}\")\n",
    "\n",
    "                # Extract key metadata\n",
    "                mooring_name_attr = dataset.attrs.get('mooring_name', 'Unknown')\n",
    "                instrument_name = dataset.get('instrument', 'Unknown').values if 'instrument' in dataset else 'Unknown'\n",
    "                serial_number = dataset.get('serial_number', 0).values if 'serial_number' in dataset else 0\n",
    "\n",
    "                print(f\"   Mooring: {mooring_name_attr}\")\n",
    "                print(f\"   Instrument: {instrument_name}\")\n",
    "                print(f\"   Serial: {serial_number}\")\n",
    "\n",
    "                # Plot temperature if available\n",
    "                if 'temperature' in dataset.data_vars:\n",
    "                    fig, ax = plt.subplots(figsize=(12, 4))\n",
    "                    ax.plot(dataset['time'], dataset['temperature'], 'b-', linewidth=0.5)\n",
    "                    ax.set_ylabel('Temperature (°C)')\n",
    "                    ax.set_title(f'{mooring_name_attr}: {instrument_name} {serial_number} - Temperature')\n",
    "                    ax.set_xlabel('Time')\n",
    "                    ax.grid(True, alpha=0.3)\n",
    "\n",
    "                    # Add stats\n",
    "                    temp_mean = dataset['temperature'].mean().values\n",
    "                    temp_std = dataset['temperature'].std().values\n",
    "                    ax.text(0.02, 0.98, f'Mean: {temp_mean:.2f}°C\\nStd: {temp_std:.2f}°C',\n",
    "                           transform=ax.transAxes, verticalalignment='top',\n",
    "                           bbox=dict(boxstyle='round', facecolor='white', alpha=0.8))\n",
    "\n",
    "                    plt.tight_layout()\n",
    "                    plt.show()\n",
    "\n",
    "                    # Save plot\n",
    "                    plot_name = f\"{mooring_name_attr}_{instrument_name}_{serial_number}_temperature_raw.png\"\n",
    "                    fig.savefig(fig_dir / plot_name, dpi=150, bbox_inches='tight')\n",
    "                    print(f\"   📊 Plot saved: {plot_name}\")\n",
    "\n",
    "        except Exception as e:\n",
    "            print(f\"   ❌ Error loading {file_path.name}: {e}\")\n",
    "\n",
    "# Example usage\n",
    "if results and any(results.values()):\n",
    "    # Analyze the first successfully processed mooring\n",
    "    successful_mooring = next(mooring for mooring, success in results.items() if success)\n",
    "    print(f\"\\nAnalyzing successful mooring: {successful_mooring}\")\n",
    "    analyze_processed_mooring(successful_mooring, basedir, 'microcat')\n",
    "    analyze_processed_mooring(successful_mooring, basedir, 'sbe16')\n",
    "    analyze_processed_mooring(successful_mooring, basedir, 'sbe56')\n",
    "else:\n",
    "    print(\"No successfully processed moorings to analyze\")"
   ]
  },
  {
   "cell_type": "markdown",
   "id": "b74ee21e",
   "metadata": {},
   "source": [
    "## Stage 2: Trim to deployment period"
   ]
  },
  {
   "cell_type": "code",
   "execution_count": 5,
   "id": "0847e657",
   "metadata": {
    "execution": {
     "iopub.execute_input": "2025-09-12T20:28:20.419342Z",
     "iopub.status.busy": "2025-09-12T20:28:20.419166Z",
     "iopub.status.idle": "2025-09-12T20:28:20.470440Z",
     "shell.execute_reply": "2025-09-12T20:28:20.469935Z"
    }
   },
   "outputs": [
    {
     "name": "stdout",
     "output_type": "stream",
     "text": [
      "\n",
      "==================================================\n",
      "Processing Stage 2 for mooring dsE_1_2018\n",
      "==================================================\n",
      "Starting Stage 2 processing for mooring: dsE_1_2018\n",
      "Deployment time: 2018-08-12T22:44:00.000000000\n",
      "Recovery time: 2018-08-26T10:38:00.000000000\n",
      "WARNING: Raw file not found: ../data/moor/proc/dsE_1_2018/sbe56/dsE_1_2018_6363_raw.nc\n",
      "WARNING: Raw file not found: ../data/moor/proc/dsE_1_2018/sbe16/dsE_1_2018_2419_raw.nc\n",
      "WARNING: Raw file not found: ../data/moor/proc/dsE_1_2018/sbe56/dsE_1_2018_6401_raw.nc\n",
      "WARNING: Raw file not found: ../data/moor/proc/dsE_1_2018/sbe56/dsE_1_2018_6402_raw.nc\n",
      "WARNING: Raw file not found: ../data/moor/proc/dsE_1_2018/sbe56/dsE_1_2018_8482_raw.nc\n",
      "WARNING: Raw file not found: ../data/moor/proc/dsE_1_2018/sbe56/dsE_1_2018_6365_raw.nc\n",
      "WARNING: Raw file not found: ../data/moor/proc/dsE_1_2018/sbe56/dsE_1_2018_6409_raw.nc\n",
      "WARNING: Raw file not found: ../data/moor/proc/dsE_1_2018/sbe56/dsE_1_2018_6397_raw.nc\n",
      "WARNING: Raw file not found: ../data/moor/proc/dsE_1_2018/sbe56/dsE_1_2018_6366_raw.nc\n",
      "WARNING: Raw file not found: ../data/moor/proc/dsE_1_2018/sbe56/dsE_1_2018_6394_raw.nc\n",
      "WARNING: Raw file not found: ../data/moor/proc/dsE_1_2018/sbe56/dsE_1_2018_6370_raw.nc\n",
      "WARNING: Raw file not found: ../data/moor/proc/dsE_1_2018/sbe16/dsE_1_2018_2418_raw.nc\n",
      "WARNING: Raw file not found: ../data/moor/proc/dsE_1_2018/tr1050/dsE_1_2018_13889_raw.nc\n",
      "WARNING: Raw file not found: ../data/moor/proc/dsE_1_2018/rbrsolo/dsE_1_2018_101651_raw.nc\n",
      "WARNING: Raw file not found: ../data/moor/proc/dsE_1_2018/tr1050/dsE_1_2018_15580_raw.nc\n",
      "WARNING: Raw file not found: ../data/moor/proc/dsE_1_2018/rbrsolo/dsE_1_2018_101647_raw.nc\n",
      "WARNING: Raw file not found: ../data/moor/proc/dsE_1_2018/tr1050/dsE_1_2018_13874_raw.nc\n",
      "WARNING: Raw file not found: ../data/moor/proc/dsE_1_2018/rbrsolo/dsE_1_2018_101645_raw.nc\n",
      "WARNING: Raw file not found: ../data/moor/proc/dsE_1_2018/tr1050/dsE_1_2018_15574_raw.nc\n",
      "WARNING: Raw file not found: ../data/moor/proc/dsE_1_2018/rbrsolo/dsE_1_2018_101646_raw.nc\n",
      "WARNING: Raw file not found: ../data/moor/proc/dsE_1_2018/tr1050/dsE_1_2018_15577_raw.nc\n",
      "Processing microcat serial 7518\n",
      "Applying clock offset: -2050 seconds\n",
      "Trimming start to deployment time: 2018-08-12T22:44:00.000000000\n",
      "Trimming end to recovery time: 2018-08-26T10:38:00.000000000\n",
      "Trimmed from 124619 to 113473 records\n",
      "Final time range: 2018-08-13T07:25:51.008000000 to 2018-08-26T10:37:50.979200000\n",
      "Successfully wrote: ../data/moor/proc/dsE_1_2018/microcat/dsE_1_2018_7518_use.nc\n",
      "WARNING: Raw file not found: ../data/moor/proc/dsE_1_2018/sbe56/dsE_1_2018_6364_raw.nc\n",
      "Stage 2 completed: 1/23 instruments successful\n"
     ]
    }
   ],
   "source": [
    "from oceanarray.stage2 import Stage2Processor, process_multiple_moorings_stage2\n",
    "\n",
    "results = process_multiple_moorings_stage2(moorlist, basedir)"
   ]
  },
  {
   "cell_type": "markdown",
   "id": "4ae7f50d",
   "metadata": {},
   "source": [
    "## Stage 3: Apply calibrations + corrections"
   ]
  },
  {
   "cell_type": "code",
   "execution_count": 6,
   "id": "60fab40c",
   "metadata": {
    "execution": {
     "iopub.execute_input": "2025-09-12T20:28:20.472256Z",
     "iopub.status.busy": "2025-09-12T20:28:20.472062Z",
     "iopub.status.idle": "2025-09-12T20:28:20.474563Z",
     "shell.execute_reply": "2025-09-12T20:28:20.474118Z"
    }
   },
   "outputs": [],
   "source": [
    "#ds_cal = process_rodb.apply_microcat_calibration_from_txt(data_dir / 'wb1_12_2015_005.microcat.txt', data_dir / 'wb1_12_2015_6123.use')\n",
    "#ds_cal"
   ]
  },
  {
   "cell_type": "code",
   "execution_count": 7,
   "id": "2e19689c",
   "metadata": {
    "execution": {
     "iopub.execute_input": "2025-09-12T20:28:20.476094Z",
     "iopub.status.busy": "2025-09-12T20:28:20.475895Z",
     "iopub.status.idle": "2025-09-12T20:28:20.478377Z",
     "shell.execute_reply": "2025-09-12T20:28:20.477935Z"
    }
   },
   "outputs": [],
   "source": [
    "#fig = plotters.plot_microcat(ds_cal)"
   ]
  },
  {
   "cell_type": "code",
   "execution_count": 8,
   "id": "1e1b7d98",
   "metadata": {
    "execution": {
     "iopub.execute_input": "2025-09-12T20:28:20.479888Z",
     "iopub.status.busy": "2025-09-12T20:28:20.479710Z",
     "iopub.status.idle": "2025-09-12T20:28:20.482163Z",
     "shell.execute_reply": "2025-09-12T20:28:20.481680Z"
    }
   },
   "outputs": [],
   "source": [
    "#ds_diff = tools.calc_ds_difference(ds_cal, ds2)\n",
    "#fig = plotters.plot_microcat(ds_diff)\n",
    "#fig.suptitle(\"difference between *.use and *.microcat\")"
   ]
  },
  {
   "cell_type": "markdown",
   "id": "f0627f85",
   "metadata": {},
   "source": [
    "## Stage 4: Convert to OceanSites format\n"
   ]
  },
  {
   "cell_type": "code",
   "execution_count": 9,
   "id": "42ff46bc",
   "metadata": {
    "execution": {
     "iopub.execute_input": "2025-09-12T20:28:20.483726Z",
     "iopub.status.busy": "2025-09-12T20:28:20.483549Z",
     "iopub.status.idle": "2025-09-12T20:28:20.486761Z",
     "shell.execute_reply": "2025-09-12T20:28:20.486317Z"
    }
   },
   "outputs": [],
   "source": [
    "if 0:\n",
    "    metadata_txt = data_dir / 'wb1_12_2015_6123.use'\n",
    "    config_dir = Path(\"..\") / \"oceanarray\" / \"config\"\n",
    "    var_map_yaml = config_dir / \"OS1_var_names.yaml\"\n",
    "    vocab_yaml = config_dir / \"OS1_vocab_attrs.yaml\"\n",
    "    sensor_yaml = config_dir / \"OS1_sensor_attrs.yaml\"\n",
    "    project_yaml = config_dir / \"project_RAPID.yaml\"\n",
    "    ds_OS = convertOS.convert_rodb_to_oceansites(ds_cal, metadata_txt, var_map_yaml, vocab_yaml, sensor_yaml=sensor_yaml,project_yaml=project_yaml)\n",
    "    ds_OS\n",
    "\n"
   ]
  },
  {
   "cell_type": "code",
   "execution_count": 10,
   "id": "dee6bcea",
   "metadata": {
    "execution": {
     "iopub.execute_input": "2025-09-12T20:28:20.488241Z",
     "iopub.status.busy": "2025-09-12T20:28:20.488067Z",
     "iopub.status.idle": "2025-09-12T20:28:20.490650Z",
     "shell.execute_reply": "2025-09-12T20:28:20.490171Z"
    }
   },
   "outputs": [],
   "source": [
    "if 0:\n",
    "    filepath = writers.save_OS_instrument(ds_OS, basedir)\n",
    "    print(filepath)"
   ]
  }
 ],
 "metadata": {
  "kernelspec": {
   "display_name": "venv (3.11.7)",
   "language": "python",
   "name": "python3"
  },
  "language_info": {
   "codemirror_mode": {
    "name": "ipython",
    "version": 3
   },
   "file_extension": ".py",
   "mimetype": "text/x-python",
   "name": "python",
   "nbconvert_exporter": "python",
   "pygments_lexer": "ipython3",
   "version": "3.13.7"
  }
 },
 "nbformat": 4,
 "nbformat_minor": 5
}
