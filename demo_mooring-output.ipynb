{
 "cells": [
  {
   "cell_type": "markdown",
   "id": "c6a29764-f39c-431c-8e77-fbc6bfe20f01",
   "metadata": {},
   "source": [
    "# oceanarray demo - preparation\n",
    "\n",
    "This notebook walks through the instrument-level processing.\n"
   ]
  },
  {
   "cell_type": "code",
   "execution_count": 1,
   "id": "6a1920f3",
   "metadata": {
    "execution": {
     "iopub.execute_input": "2025-09-07T09:15:38.031212Z",
     "iopub.status.busy": "2025-09-07T09:15:38.030976Z",
     "iopub.status.idle": "2025-09-07T09:15:39.162494Z",
     "shell.execute_reply": "2025-09-07T09:15:39.161894Z"
    }
   },
   "outputs": [],
   "source": [
    "from pathlib import Path\n",
    "import numpy as np\n",
    "import gsw\n",
    "import xarray as xr\n",
    "import numpy as np\n",
    "import matplotlib.pyplot as plt\n",
    "from oceanarray import readers, plotters, tools, convertOS, writers, mooring\n",
    "from oceanarray import rapid_interp\n"
   ]
  },
  {
   "cell_type": "markdown",
   "id": "4ad6e0e5",
   "metadata": {
    "vscode": {
     "languageId": "javascript"
    }
   },
   "source": [
    "## Stack instruments on a mooring"
   ]
  },
  {
   "cell_type": "code",
   "execution_count": 2,
   "id": "ce860d75",
   "metadata": {
    "execution": {
     "iopub.execute_input": "2025-09-07T09:15:39.164732Z",
     "iopub.status.busy": "2025-09-07T09:15:39.164438Z",
     "iopub.status.idle": "2025-09-07T09:15:39.350053Z",
     "shell.execute_reply": "2025-09-07T09:15:39.349489Z"
    }
   },
   "outputs": [
    {
     "name": "stdout",
     "output_type": "stream",
     "text": [
      "[]\n"
     ]
    },
    {
     "ename": "IndexError",
     "evalue": "list index out of range",
     "output_type": "error",
     "traceback": [
      "\u001b[31m---------------------------------------------------------------------------\u001b[39m",
      "\u001b[31mIndexError\u001b[39m                                Traceback (most recent call last)",
      "\u001b[36mCell\u001b[39m\u001b[36m \u001b[39m\u001b[32mIn[2]\u001b[39m\u001b[32m, line 4\u001b[39m\n\u001b[32m      2\u001b[39m files = \u001b[38;5;28mlist\u001b[39m(data_dir.glob(\u001b[33m\"\u001b[39m\u001b[33mOS_wb2_9_201114_P.nc\u001b[39m\u001b[33m\"\u001b[39m))\n\u001b[32m      3\u001b[39m \u001b[38;5;28mprint\u001b[39m(files)\n\u001b[32m----> \u001b[39m\u001b[32m4\u001b[39m ds_stack = xr.open_dataset(\u001b[43mfiles\u001b[49m\u001b[43m[\u001b[49m\u001b[32;43m0\u001b[39;49m\u001b[43m]\u001b[49m)\n\u001b[32m      6\u001b[39m \u001b[38;5;66;03m#ds_list_OS = readers.load_dataset(files)\u001b[39;00m\n\u001b[32m      7\u001b[39m \n\u001b[32m      8\u001b[39m \u001b[38;5;66;03m#ds_stack = mooring.combine_mooring_OS(ds_list_OS)\u001b[39;00m\n\u001b[32m      9\u001b[39m \u001b[38;5;66;03m#ds_stack\u001b[39;00m\n",
      "\u001b[31mIndexError\u001b[39m: list index out of range"
     ]
    }
   ],
   "source": [
    "data_dir = Path(\"..\", \"data\")\n",
    "files = list(data_dir.glob(\"OS_wb2_9_201114_P.nc\"))\n",
    "print(files)\n",
    "ds_stack = xr.open_dataset(files[0])\n",
    "\n",
    "#ds_list_OS = readers.load_dataset(files)\n",
    "\n",
    "#ds_stack = mooring.combine_mooring_OS(ds_list_OS)\n",
    "#ds_stack"
   ]
  },
  {
   "cell_type": "markdown",
   "id": "c87567a6",
   "metadata": {
    "vscode": {
     "languageId": "javascript"
    }
   },
   "source": [
    "## Step 1: Grid in time\n",
    "\n",
    "In this case, we are filtering with a 2-day 6th order Butterworth filter, then linearly interpolating onto a regular 12-hour grid."
   ]
  },
  {
   "cell_type": "code",
   "execution_count": 3,
   "id": "b824bf8c",
   "metadata": {
    "execution": {
     "iopub.execute_input": "2025-09-07T09:15:39.351974Z",
     "iopub.status.busy": "2025-09-07T09:15:39.351799Z",
     "iopub.status.idle": "2025-09-07T09:15:39.370810Z",
     "shell.execute_reply": "2025-09-07T09:15:39.370189Z"
    }
   },
   "outputs": [
    {
     "ename": "NameError",
     "evalue": "name 'ds_stack' is not defined",
     "output_type": "error",
     "traceback": [
      "\u001b[31m---------------------------------------------------------------------------\u001b[39m",
      "\u001b[31mNameError\u001b[39m                                 Traceback (most recent call last)",
      "\u001b[36mCell\u001b[39m\u001b[36m \u001b[39m\u001b[32mIn[3]\u001b[39m\u001b[32m, line 1\u001b[39m\n\u001b[32m----> \u001b[39m\u001b[32m1\u001b[39m ds_filt = mooring.filter_all_time_vars(\u001b[43mds_stack\u001b[49m)\n\u001b[32m      2\u001b[39m ds_12h = mooring.interp_to_12hour_grid(ds_filt)\n\u001b[32m      3\u001b[39m ds_12h\n",
      "\u001b[31mNameError\u001b[39m: name 'ds_stack' is not defined"
     ]
    }
   ],
   "source": [
    "ds_filt = mooring.filter_all_time_vars(ds_stack)\n",
    "ds_12h = mooring.interp_to_12hour_grid(ds_filt)\n",
    "ds_12h"
   ]
  },
  {
   "cell_type": "code",
   "execution_count": 4,
   "id": "b3b8cad7",
   "metadata": {
    "execution": {
     "iopub.execute_input": "2025-09-07T09:15:39.372733Z",
     "iopub.status.busy": "2025-09-07T09:15:39.372537Z",
     "iopub.status.idle": "2025-09-07T09:15:39.391259Z",
     "shell.execute_reply": "2025-09-07T09:15:39.390686Z"
    }
   },
   "outputs": [
    {
     "ename": "NameError",
     "evalue": "name 'ds_12h' is not defined",
     "output_type": "error",
     "traceback": [
      "\u001b[31m---------------------------------------------------------------------------\u001b[39m",
      "\u001b[31mNameError\u001b[39m                                 Traceback (most recent call last)",
      "\u001b[36mCell\u001b[39m\u001b[36m \u001b[39m\u001b[32mIn[4]\u001b[39m\u001b[32m, line 2\u001b[39m\n\u001b[32m      1\u001b[39m \u001b[38;5;66;03m# Plot the temperature time series by depth\u001b[39;00m\n\u001b[32m----> \u001b[39m\u001b[32m2\u001b[39m plotters.plot_timeseries_by_depth(\u001b[43mds_12h\u001b[49m, var=\u001b[33m\"\u001b[39m\u001b[33mCNDC\u001b[39m\u001b[33m\"\u001b[39m)\n",
      "\u001b[31mNameError\u001b[39m: name 'ds_12h' is not defined"
     ]
    }
   ],
   "source": [
    "# Plot the temperature time series by depth\n",
    "plotters.plot_timeseries_by_depth(ds_12h, var=\"CNDC\")"
   ]
  },
  {
   "cell_type": "markdown",
   "id": "dd63c496",
   "metadata": {},
   "source": [
    "plotters.plot_timeseries_by_depth(ds_12h, var=\"PRES\")"
   ]
  },
  {
   "cell_type": "markdown",
   "id": "dcd5ace6",
   "metadata": {},
   "source": [
    "## Step 2: Grid vertically"
   ]
  },
  {
   "cell_type": "code",
   "execution_count": 5,
   "id": "9430b5f1",
   "metadata": {
    "execution": {
     "iopub.execute_input": "2025-09-07T09:15:39.393236Z",
     "iopub.status.busy": "2025-09-07T09:15:39.393013Z",
     "iopub.status.idle": "2025-09-07T09:15:39.886586Z",
     "shell.execute_reply": "2025-09-07T09:15:39.885932Z"
    }
   },
   "outputs": [
    {
     "data": {
      "text/plain": [
       "(<Figure size 1200x300 with 2 Axes>,\n",
       " <Axes: title={'center': 'Monthly dSdp Climatology'}, xlabel='Temperature (°C)', ylabel='dSdp (per dbar)'>)"
      ]
     },
     "execution_count": 5,
     "metadata": {},
     "output_type": "execute_result"
    },
    {
     "data": {
      "image/png": "[encoded data removed]",
      "text/plain": [
       "<Figure size 1200x300 with 2 Axes>"
      ]
     },
     "metadata": {},
     "output_type": "display_data"
    }
   ],
   "source": [
    "clim_path = Path(\"../data/climatology_WB2.nc\")\n",
    "ds_clim = xr.open_dataset(clim_path)\n",
    "# plot the climatology\n",
    "# Plot the climatology\n",
    "fig, ax = plt.subplots(1, 2, figsize=(12, 3))\n",
    "plotters.plot_climatology(ds_clim, clim_ds_smoothed=ds_clim,var=\"dTdp\", fig=fig, ax=ax[0])\n",
    "plotters.plot_climatology(ds_clim, clim_ds_smoothed=ds_clim, var=\"dSdp\", fig=fig, ax=ax[1])"
   ]
  },
  {
   "cell_type": "code",
   "execution_count": 6,
   "id": "60fdf8e1",
   "metadata": {
    "execution": {
     "iopub.execute_input": "2025-09-07T09:15:39.888569Z",
     "iopub.status.busy": "2025-09-07T09:15:39.888357Z",
     "iopub.status.idle": "2025-09-07T09:15:39.899777Z",
     "shell.execute_reply": "2025-09-07T09:15:39.899122Z"
    }
   },
   "outputs": [
    {
     "data": {
      "text/html": [
       "<div><svg style=\"position: absolute; width: 0; height: 0; overflow: hidden\">\n",
       "<defs>\n",
       "<symbol id=\"icon-database\" viewBox=\"0 0 32 32\">\n",
       "<path d=\"M16 0c-8.837 0-16 2.239-16 5v4c0 2.761 7.163 5 16 5s16-2.239 16-5v-4c0-2.761-7.163-5-16-5z\"></path>\n",
       "<path d=\"M16 17c-8.837 0-16-2.239-16-5v6c0 2.761 7.163 5 16 5s16-2.239 16-5v-6c0 2.761-7.163 5-16 5z\"></path>\n",
       "<path d=\"M16 26c-8.837 0-16-2.239-16-5v6c0 2.761 7.163 5 16 5s16-2.239 16-5v-6c0 2.761-7.163 5-16 5z\"></path>\n",
       "</symbol>\n",
       "<symbol id=\"icon-file-text2\" viewBox=\"0 0 32 32\">\n",
       "<path d=\"M28.681 7.159c-0.694-0.947-1.662-2.053-2.724-3.116s-2.169-2.030-3.116-2.724c-1.612-1.182-2.393-1.319-2.841-1.319h-15.5c-1.378 0-2.5 1.121-2.5 2.5v27c0 1.378 1.122 2.5 2.5 2.5h23c1.378 0 2.5-1.122 2.5-2.5v-19.5c0-0.448-0.137-1.23-1.319-2.841zM24.543 5.457c0.959 0.959 1.712 1.825 2.268 2.543h-4.811v-4.811c0.718 0.556 1.584 1.309 2.543 2.268zM28 29.5c0 0.271-0.229 0.5-0.5 0.5h-23c-0.271 0-0.5-0.229-0.5-0.5v-27c0-0.271 0.229-0.5 0.5-0.5 0 0 15.499-0 15.5 0v7c0 0.552 0.448 1 1 1h7v19.5z\"></path>\n",
       "<path d=\"M23 26h-14c-0.552 0-1-0.448-1-1s0.448-1 1-1h14c0.552 0 1 0.448 1 1s-0.448 1-1 1z\"></path>\n",
       "<path d=\"M23 22h-14c-0.552 0-1-0.448-1-1s0.448-1 1-1h14c0.552 0 1 0.448 1 1s-0.448 1-1 1z\"></path>\n",
       "<path d=\"M23 18h-14c-0.552 0-1-0.448-1-1s0.448-1 1-1h14c0.552 0 1 0.448 1 1s-0.448 1-1 1z\"></path>\n",
       "</symbol>\n",
       "</defs>\n",
       "</svg>\n",
       "<style>/* CSS stylesheet for displaying xarray objects in jupyterlab.\n",
       " *\n",
       " */\n",
       "\n",
       ":root {\n",
       "  --xr-font-color0: var(\n",
       "    --jp-content-font-color0,\n",
       "    var(--pst-color-text-base rgba(0, 0, 0, 1))\n",
       "  );\n",
       "  --xr-font-color2: var(\n",
       "    --jp-content-font-color2,\n",
       "    var(--pst-color-text-base, rgba(0, 0, 0, 0.54))\n",
       "  );\n",
       "  --xr-font-color3: var(\n",
       "    --jp-content-font-color3,\n",
       "    var(--pst-color-text-base, rgba(0, 0, 0, 0.38))\n",
       "  );\n",
       "  --xr-border-color: var(\n",
       "    --jp-border-color2,\n",
       "    hsl(from var(--pst-color-on-background, white) h s calc(l - 10))\n",
       "  );\n",
       "  --xr-disabled-color: var(\n",
       "    --jp-layout-color3,\n",
       "    hsl(from var(--pst-color-on-background, white) h s calc(l - 40))\n",
       "  );\n",
       "  --xr-background-color: var(\n",
       "    --jp-layout-color0,\n",
       "    var(--pst-color-on-background, white)\n",
       "  );\n",
       "  --xr-background-color-row-even: var(\n",
       "    --jp-layout-color1,\n",
       "    hsl(from var(--pst-color-on-background, white) h s calc(l - 5))\n",
       "  );\n",
       "  --xr-background-color-row-odd: var(\n",
       "    --jp-layout-color2,\n",
       "    hsl(from var(--pst-color-on-background, white) h s calc(l - 15))\n",
       "  );\n",
       "}\n",
       "\n",
       "html[theme=\"dark\"],\n",
       "html[data-theme=\"dark\"],\n",
       "body[data-theme=\"dark\"],\n",
       "body.vscode-dark {\n",
       "  --xr-font-color0: var(\n",
       "    --jp-content-font-color0,\n",
       "    var(--pst-color-text-base, rgba(255, 255, 255, 1))\n",
       "  );\n",
       "  --xr-font-color2: var(\n",
       "    --jp-content-font-color2,\n",
       "    var(--pst-color-text-base, rgba(255, 255, 255, 0.54))\n",
       "  );\n",
       "  --xr-font-color3: var(\n",
       "    --jp-content-font-color3,\n",
       "    var(--pst-color-text-base, rgba(255, 255, 255, 0.38))\n",
       "  );\n",
       "  --xr-border-color: var(\n",
       "    --jp-border-color2,\n",
       "    hsl(from var(--pst-color-on-background, #111111) h s calc(l + 10))\n",
       "  );\n",
       "  --xr-disabled-color: var(\n",
       "    --jp-layout-color3,\n",
       "    hsl(from var(--pst-color-on-background, #111111) h s calc(l + 40))\n",
       "  );\n",
       "  --xr-background-color: var(\n",
       "    --jp-layout-color0,\n",
       "    var(--pst-color-on-background, #111111)\n",
       "  );\n",
       "  --xr-background-color-row-even: var(\n",
       "    --jp-layout-color1,\n",
       "    hsl(from var(--pst-color-on-background, #111111) h s calc(l + 5))\n",
       "  );\n",
       "  --xr-background-color-row-odd: var(\n",
       "    --jp-layout-color2,\n",
       "    hsl(from var(--pst-color-on-background, #111111) h s calc(l + 15))\n",
       "  );\n",
       "}\n",
       "\n",
       ".xr-wrap {\n",
       "  display: block !important;\n",
       "  min-width: 300px;\n",
       "  max-width: 700px;\n",
       "}\n",
       "\n",
       ".xr-text-repr-fallback {\n",
       "  /* fallback to plain text repr when CSS is not injected (untrusted notebook) */\n",
       "  display: none;\n",
       "}\n",
       "\n",
       ".xr-header {\n",
       "  padding-top: 6px;\n",
       "  padding-bottom: 6px;\n",
       "  margin-bottom: 4px;\n",
       "  border-bottom: solid 1px var(--xr-border-color);\n",
       "}\n",
       "\n",
       ".xr-header > div,\n",
       ".xr-header > ul {\n",
       "  display: inline;\n",
       "  margin-top: 0;\n",
       "  margin-bottom: 0;\n",
       "}\n",
       "\n",
       ".xr-obj-type,\n",
       ".xr-array-name {\n",
       "  margin-left: 2px;\n",
       "  margin-right: 10px;\n",
       "}\n",
       "\n",
       ".xr-obj-type {\n",
       "  color: var(--xr-font-color2);\n",
       "}\n",
       "\n",
       ".xr-sections {\n",
       "  padding-left: 0 !important;\n",
       "  display: grid;\n",
       "  grid-template-columns: 150px auto auto 1fr 0 20px 0 20px;\n",
       "}\n",
       "\n",
       ".xr-section-item {\n",
       "  display: contents;\n",
       "}\n",
       "\n",
       ".xr-section-item input {\n",
       "  display: inline-block;\n",
       "  opacity: 0;\n",
       "  height: 0;\n",
       "}\n",
       "\n",
       ".xr-section-item input + label {\n",
       "  color: var(--xr-disabled-color);\n",
       "  border: 2px solid transparent !important;\n",
       "}\n",
       "\n",
       ".xr-section-item input:enabled + label {\n",
       "  cursor: pointer;\n",
       "  color: var(--xr-font-color2);\n",
       "}\n",
       "\n",
       ".xr-section-item input:focus + label {\n",
       "  border: 2px solid var(--xr-font-color0) !important;\n",
       "}\n",
       "\n",
       ".xr-section-item input:enabled + label:hover {\n",
       "  color: var(--xr-font-color0);\n",
       "}\n",
       "\n",
       ".xr-section-summary {\n",
       "  grid-column: 1;\n",
       "  color: var(--xr-font-color2);\n",
       "  font-weight: 500;\n",
       "}\n",
       "\n",
       ".xr-section-summary > span {\n",
       "  display: inline-block;\n",
       "  padding-left: 0.5em;\n",
       "}\n",
       "\n",
       ".xr-section-summary-in:disabled + label {\n",
       "  color: var(--xr-font-color2);\n",
       "}\n",
       "\n",
       ".xr-section-summary-in + label:before {\n",
       "  display: inline-block;\n",
       "  content: \"►\";\n",
       "  font-size: 11px;\n",
       "  width: 15px;\n",
       "  text-align: center;\n",
       "}\n",
       "\n",
       ".xr-section-summary-in:disabled + label:before {\n",
       "  color: var(--xr-disabled-color);\n",
       "}\n",
       "\n",
       ".xr-section-summary-in:checked + label:before {\n",
       "  content: \"▼\";\n",
       "}\n",
       "\n",
       ".xr-section-summary-in:checked + label > span {\n",
       "  display: none;\n",
       "}\n",
       "\n",
       ".xr-section-summary,\n",
       ".xr-section-inline-details {\n",
       "  padding-top: 4px;\n",
       "  padding-bottom: 4px;\n",
       "}\n",
       "\n",
       ".xr-section-inline-details {\n",
       "  grid-column: 2 / -1;\n",
       "}\n",
       "\n",
       ".xr-section-details {\n",
       "  display: none;\n",
       "  grid-column: 1 / -1;\n",
       "  margin-bottom: 5px;\n",
       "}\n",
       "\n",
       ".xr-section-summary-in:checked ~ .xr-section-details {\n",
       "  display: contents;\n",
       "}\n",
       "\n",
       ".xr-array-wrap {\n",
       "  grid-column: 1 / -1;\n",
       "  display: grid;\n",
       "  grid-template-columns: 20px auto;\n",
       "}\n",
       "\n",
       ".xr-array-wrap > label {\n",
       "  grid-column: 1;\n",
       "  vertical-align: top;\n",
       "}\n",
       "\n",
       ".xr-preview {\n",
       "  color: var(--xr-font-color3);\n",
       "}\n",
       "\n",
       ".xr-array-preview,\n",
       ".xr-array-data {\n",
       "  padding: 0 5px !important;\n",
       "  grid-column: 2;\n",
       "}\n",
       "\n",
       ".xr-array-data,\n",
       ".xr-array-in:checked ~ .xr-array-preview {\n",
       "  display: none;\n",
       "}\n",
       "\n",
       ".xr-array-in:checked ~ .xr-array-data,\n",
       ".xr-array-preview {\n",
       "  display: inline-block;\n",
       "}\n",
       "\n",
       ".xr-dim-list {\n",
       "  display: inline-block !important;\n",
       "  list-style: none;\n",
       "  padding: 0 !important;\n",
       "  margin: 0;\n",
       "}\n",
       "\n",
       ".xr-dim-list li {\n",
       "  display: inline-block;\n",
       "  padding: 0;\n",
       "  margin: 0;\n",
       "}\n",
       "\n",
       ".xr-dim-list:before {\n",
       "  content: \"(\";\n",
       "}\n",
       "\n",
       ".xr-dim-list:after {\n",
       "  content: \")\";\n",
       "}\n",
       "\n",
       ".xr-dim-list li:not(:last-child):after {\n",
       "  content: \",\";\n",
       "  padding-right: 5px;\n",
       "}\n",
       "\n",
       ".xr-has-index {\n",
       "  font-weight: bold;\n",
       "}\n",
       "\n",
       ".xr-var-list,\n",
       ".xr-var-item {\n",
       "  display: contents;\n",
       "}\n",
       "\n",
       ".xr-var-item > div,\n",
       ".xr-var-item label,\n",
       ".xr-var-item > .xr-var-name span {\n",
       "  background-color: var(--xr-background-color-row-even);\n",
       "  border-color: var(--xr-background-color-row-odd);\n",
       "  margin-bottom: 0;\n",
       "  padding-top: 2px;\n",
       "}\n",
       "\n",
       ".xr-var-item > .xr-var-name:hover span {\n",
       "  padding-right: 5px;\n",
       "}\n",
       "\n",
       ".xr-var-list > li:nth-child(odd) > div,\n",
       ".xr-var-list > li:nth-child(odd) > label,\n",
       ".xr-var-list > li:nth-child(odd) > .xr-var-name span {\n",
       "  background-color: var(--xr-background-color-row-odd);\n",
       "  border-color: var(--xr-background-color-row-even);\n",
       "}\n",
       "\n",
       ".xr-var-name {\n",
       "  grid-column: 1;\n",
       "}\n",
       "\n",
       ".xr-var-dims {\n",
       "  grid-column: 2;\n",
       "}\n",
       "\n",
       ".xr-var-dtype {\n",
       "  grid-column: 3;\n",
       "  text-align: right;\n",
       "  color: var(--xr-font-color2);\n",
       "}\n",
       "\n",
       ".xr-var-preview {\n",
       "  grid-column: 4;\n",
       "}\n",
       "\n",
       ".xr-index-preview {\n",
       "  grid-column: 2 / 5;\n",
       "  color: var(--xr-font-color2);\n",
       "}\n",
       "\n",
       ".xr-var-name,\n",
       ".xr-var-dims,\n",
       ".xr-var-dtype,\n",
       ".xr-preview,\n",
       ".xr-attrs dt {\n",
       "  white-space: nowrap;\n",
       "  overflow: hidden;\n",
       "  text-overflow: ellipsis;\n",
       "  padding-right: 10px;\n",
       "}\n",
       "\n",
       ".xr-var-name:hover,\n",
       ".xr-var-dims:hover,\n",
       ".xr-var-dtype:hover,\n",
       ".xr-attrs dt:hover {\n",
       "  overflow: visible;\n",
       "  width: auto;\n",
       "  z-index: 1;\n",
       "}\n",
       "\n",
       ".xr-var-attrs,\n",
       ".xr-var-data,\n",
       ".xr-index-data {\n",
       "  display: none;\n",
       "  border-top: 2px dotted var(--xr-background-color);\n",
       "  padding-bottom: 20px !important;\n",
       "  padding-top: 10px !important;\n",
       "}\n",
       "\n",
       ".xr-var-attrs-in + label,\n",
       ".xr-var-data-in + label,\n",
       ".xr-index-data-in + label {\n",
       "  padding: 0 1px;\n",
       "}\n",
       "\n",
       ".xr-var-attrs-in:checked ~ .xr-var-attrs,\n",
       ".xr-var-data-in:checked ~ .xr-var-data,\n",
       ".xr-index-data-in:checked ~ .xr-index-data {\n",
       "  display: block;\n",
       "}\n",
       "\n",
       ".xr-var-data > table {\n",
       "  float: right;\n",
       "}\n",
       "\n",
       ".xr-var-data > pre,\n",
       ".xr-index-data > pre,\n",
       ".xr-var-data > table > tbody > tr {\n",
       "  background-color: transparent !important;\n",
       "}\n",
       "\n",
       ".xr-var-name span,\n",
       ".xr-var-data,\n",
       ".xr-index-name div,\n",
       ".xr-index-data,\n",
       ".xr-attrs {\n",
       "  padding-left: 25px !important;\n",
       "}\n",
       "\n",
       ".xr-attrs,\n",
       ".xr-var-attrs,\n",
       ".xr-var-data,\n",
       ".xr-index-data {\n",
       "  grid-column: 1 / -1;\n",
       "}\n",
       "\n",
       "dl.xr-attrs {\n",
       "  padding: 0;\n",
       "  margin: 0;\n",
       "  display: grid;\n",
       "  grid-template-columns: 125px auto;\n",
       "}\n",
       "\n",
       ".xr-attrs dt,\n",
       ".xr-attrs dd {\n",
       "  padding: 0;\n",
       "  margin: 0;\n",
       "  float: left;\n",
       "  padding-right: 10px;\n",
       "  width: auto;\n",
       "}\n",
       "\n",
       ".xr-attrs dt {\n",
       "  font-weight: normal;\n",
       "  grid-column: 1;\n",
       "}\n",
       "\n",
       ".xr-attrs dt:hover span {\n",
       "  display: inline-block;\n",
       "  background: var(--xr-background-color);\n",
       "  padding-right: 10px;\n",
       "}\n",
       "\n",
       ".xr-attrs dd {\n",
       "  grid-column: 2;\n",
       "  white-space: pre-wrap;\n",
       "  word-break: break-all;\n",
       "}\n",
       "\n",
       ".xr-icon-database,\n",
       ".xr-icon-file-text2,\n",
       ".xr-no-icon {\n",
       "  display: inline-block;\n",
       "  vertical-align: middle;\n",
       "  width: 1em;\n",
       "  height: 1.5em !important;\n",
       "  stroke-width: 0;\n",
       "  stroke: currentColor;\n",
       "  fill: currentColor;\n",
       "}\n",
       "\n",
       ".xr-var-attrs-in:checked + label > .xr-icon-file-text2,\n",
       ".xr-var-data-in:checked + label > .xr-icon-database,\n",
       ".xr-index-data-in:checked + label > .xr-icon-database {\n",
       "  color: var(--xr-font-color0);\n",
       "  filter: drop-shadow(1px 1px 5px var(--xr-font-color2));\n",
       "  stroke-width: 0.8px;\n",
       "}\n",
       "</style><pre class='xr-text-repr-fallback'>&lt;xarray.Dataset&gt; Size: 15kB\n",
       "Dimensions:  (month: 12, TEMP: 74)\n",
       "Coordinates:\n",
       "  * month    (month) int64 96B 1 2 3 4 5 6 7 8 9 10 11 12\n",
       "  * TEMP     (TEMP) float64 592B -1.75 -1.25 -0.75 -0.25 ... 33.75 34.25 34.75\n",
       "Data variables:\n",
       "    dTdp     (month, TEMP) float64 7kB ...\n",
       "    dSdp     (month, TEMP) float64 7kB ...\n",
       "Attributes:\n",
       "    method:          seasonal climatology built from downsampled CTD profiles\n",
       "    temp_bin_width:  0.5\n",
       "    description:     Monthly climatology of dT/dP and dS/dP vs temperature.\n",
       "    generated_by:    verticalnn rapid_interp module\n",
       "    created_on:      2025-06-09T17:45:03</pre><div class='xr-wrap' style='display:none'><div class='xr-header'><div class='xr-obj-type'>xarray.Dataset</div></div><ul class='xr-sections'><li class='xr-section-item'><input id='section-ec2e433c-bf10-4560-a65a-352f71fea67d' class='xr-section-summary-in' type='checkbox' disabled ><label for='section-ec2e433c-bf10-4560-a65a-352f71fea67d' class='xr-section-summary'  title='Expand/collapse section'>Dimensions:</label><div class='xr-section-inline-details'><ul class='xr-dim-list'><li><span class='xr-has-index'>month</span>: 12</li><li><span class='xr-has-index'>TEMP</span>: 74</li></ul></div><div class='xr-section-details'></div></li><li class='xr-section-item'><input id='section-139f052a-bb50-4815-bfd9-76059f5c52b9' class='xr-section-summary-in' type='checkbox'  checked><label for='section-139f052a-bb50-4815-bfd9-76059f5c52b9' class='xr-section-summary' >Coordinates: <span>(2)</span></label><div class='xr-section-inline-details'></div><div class='xr-section-details'><ul class='xr-var-list'><li class='xr-var-item'><div class='xr-var-name'><span class='xr-has-index'>month</span></div><div class='xr-var-dims'>(month)</div><div class='xr-var-dtype'>int64</div><div class='xr-var-preview xr-preview'>1 2 3 4 5 6 7 8 9 10 11 12</div><input id='attrs-600c68c0-085f-4bfe-8280-86aac17f48f9' class='xr-var-attrs-in' type='checkbox' disabled><label for='attrs-600c68c0-085f-4bfe-8280-86aac17f48f9' title='Show/Hide attributes'><svg class='icon xr-icon-file-text2'><use xlink:href='#icon-file-text2'></use></svg></label><input id='data-5f10de30-71d0-404d-8790-735eada539e2' class='xr-var-data-in' type='checkbox'><label for='data-5f10de30-71d0-404d-8790-735eada539e2' title='Show/Hide data repr'><svg class='icon xr-icon-database'><use xlink:href='#icon-database'></use></svg></label><div class='xr-var-attrs'><dl class='xr-attrs'></dl></div><div class='xr-var-data'><pre>array([ 1,  2,  3,  4,  5,  6,  7,  8,  9, 10, 11, 12])</pre></div></li><li class='xr-var-item'><div class='xr-var-name'><span class='xr-has-index'>TEMP</span></div><div class='xr-var-dims'>(TEMP)</div><div class='xr-var-dtype'>float64</div><div class='xr-var-preview xr-preview'>-1.75 -1.25 -0.75 ... 34.25 34.75</div><input id='attrs-3e69b6df-47a0-4a89-906f-ba2b72fa1d57' class='xr-var-attrs-in' type='checkbox' disabled><label for='attrs-3e69b6df-47a0-4a89-906f-ba2b72fa1d57' title='Show/Hide attributes'><svg class='icon xr-icon-file-text2'><use xlink:href='#icon-file-text2'></use></svg></label><input id='data-baed14c7-5598-4347-a061-524c2c5bb7a2' class='xr-var-data-in' type='checkbox'><label for='data-baed14c7-5598-4347-a061-524c2c5bb7a2' title='Show/Hide data repr'><svg class='icon xr-icon-database'><use xlink:href='#icon-database'></use></svg></label><div class='xr-var-attrs'><dl class='xr-attrs'></dl></div><div class='xr-var-data'><pre>array([-1.75, -1.25, -0.75, -0.25,  0.25,  0.75,  1.25,  1.75,  2.25,  2.75,\n",
       "        3.25,  3.75,  4.25,  4.75,  5.25,  5.75,  6.25,  6.75,  7.25,  7.75,\n",
       "        8.25,  8.75,  9.25,  9.75, 10.25, 10.75, 11.25, 11.75, 12.25, 12.75,\n",
       "       13.25, 13.75, 14.25, 14.75, 15.25, 15.75, 16.25, 16.75, 17.25, 17.75,\n",
       "       18.25, 18.75, 19.25, 19.75, 20.25, 20.75, 21.25, 21.75, 22.25, 22.75,\n",
       "       23.25, 23.75, 24.25, 24.75, 25.25, 25.75, 26.25, 26.75, 27.25, 27.75,\n",
       "       28.25, 28.75, 29.25, 29.75, 30.25, 30.75, 31.25, 31.75, 32.25, 32.75,\n",
       "       33.25, 33.75, 34.25, 34.75])</pre></div></li></ul></div></li><li class='xr-section-item'><input id='section-f9f99029-e0ae-4724-a9a7-2a6167e8fb5b' class='xr-section-summary-in' type='checkbox'  checked><label for='section-f9f99029-e0ae-4724-a9a7-2a6167e8fb5b' class='xr-section-summary' >Data variables: <span>(2)</span></label><div class='xr-section-inline-details'></div><div class='xr-section-details'><ul class='xr-var-list'><li class='xr-var-item'><div class='xr-var-name'><span>dTdp</span></div><div class='xr-var-dims'>(month, TEMP)</div><div class='xr-var-dtype'>float64</div><div class='xr-var-preview xr-preview'>...</div><input id='attrs-c505e710-3c6f-4c64-a88b-c33f1982dd4b' class='xr-var-attrs-in' type='checkbox' disabled><label for='attrs-c505e710-3c6f-4c64-a88b-c33f1982dd4b' title='Show/Hide attributes'><svg class='icon xr-icon-file-text2'><use xlink:href='#icon-file-text2'></use></svg></label><input id='data-f2235b1c-fee0-4676-ab68-c9d14a51fcd9' class='xr-var-data-in' type='checkbox'><label for='data-f2235b1c-fee0-4676-ab68-c9d14a51fcd9' title='Show/Hide data repr'><svg class='icon xr-icon-database'><use xlink:href='#icon-database'></use></svg></label><div class='xr-var-attrs'><dl class='xr-attrs'></dl></div><div class='xr-var-data'><pre>[888 values with dtype=float64]</pre></div></li><li class='xr-var-item'><div class='xr-var-name'><span>dSdp</span></div><div class='xr-var-dims'>(month, TEMP)</div><div class='xr-var-dtype'>float64</div><div class='xr-var-preview xr-preview'>...</div><input id='attrs-0c9380fa-919b-450f-b3c0-daaa46624870' class='xr-var-attrs-in' type='checkbox' disabled><label for='attrs-0c9380fa-919b-450f-b3c0-daaa46624870' title='Show/Hide attributes'><svg class='icon xr-icon-file-text2'><use xlink:href='#icon-file-text2'></use></svg></label><input id='data-4a19a37b-da17-4d5f-b260-647e97bf0e76' class='xr-var-data-in' type='checkbox'><label for='data-4a19a37b-da17-4d5f-b260-647e97bf0e76' title='Show/Hide data repr'><svg class='icon xr-icon-database'><use xlink:href='#icon-database'></use></svg></label><div class='xr-var-attrs'><dl class='xr-attrs'></dl></div><div class='xr-var-data'><pre>[888 values with dtype=float64]</pre></div></li></ul></div></li><li class='xr-section-item'><input id='section-337e1c4b-0fc8-4545-92f8-8e1a3324f73a' class='xr-section-summary-in' type='checkbox'  ><label for='section-337e1c4b-0fc8-4545-92f8-8e1a3324f73a' class='xr-section-summary' >Indexes: <span>(2)</span></label><div class='xr-section-inline-details'></div><div class='xr-section-details'><ul class='xr-var-list'><li class='xr-var-item'><div class='xr-index-name'><div>month</div></div><div class='xr-index-preview'>PandasIndex</div><input type='checkbox' disabled/><label></label><input id='index-1a3936ad-7613-4dca-a505-2b10cb6c5775' class='xr-index-data-in' type='checkbox'/><label for='index-1a3936ad-7613-4dca-a505-2b10cb6c5775' title='Show/Hide index repr'><svg class='icon xr-icon-database'><use xlink:href='#icon-database'></use></svg></label><div class='xr-index-data'><pre>PandasIndex(Index([1, 2, 3, 4, 5, 6, 7, 8, 9, 10, 11, 12], dtype=&#x27;int64&#x27;, name=&#x27;month&#x27;))</pre></div></li><li class='xr-var-item'><div class='xr-index-name'><div>TEMP</div></div><div class='xr-index-preview'>PandasIndex</div><input type='checkbox' disabled/><label></label><input id='index-c325a9c5-6103-45bd-8484-c1d2988c09fa' class='xr-index-data-in' type='checkbox'/><label for='index-c325a9c5-6103-45bd-8484-c1d2988c09fa' title='Show/Hide index repr'><svg class='icon xr-icon-database'><use xlink:href='#icon-database'></use></svg></label><div class='xr-index-data'><pre>PandasIndex(Index([-1.75, -1.25, -0.75, -0.25,  0.25,  0.75,  1.25,  1.75,  2.25,  2.75,\n",
       "        3.25,  3.75,  4.25,  4.75,  5.25,  5.75,  6.25,  6.75,  7.25,  7.75,\n",
       "        8.25,  8.75,  9.25,  9.75, 10.25, 10.75, 11.25, 11.75, 12.25, 12.75,\n",
       "       13.25, 13.75, 14.25, 14.75, 15.25, 15.75, 16.25, 16.75, 17.25, 17.75,\n",
       "       18.25, 18.75, 19.25, 19.75, 20.25, 20.75, 21.25, 21.75, 22.25, 22.75,\n",
       "       23.25, 23.75, 24.25, 24.75, 25.25, 25.75, 26.25, 26.75, 27.25, 27.75,\n",
       "       28.25, 28.75, 29.25, 29.75, 30.25, 30.75, 31.25, 31.75, 32.25, 32.75,\n",
       "       33.25, 33.75, 34.25, 34.75],\n",
       "      dtype=&#x27;float64&#x27;, name=&#x27;TEMP&#x27;))</pre></div></li></ul></div></li><li class='xr-section-item'><input id='section-c59e89e2-f8f1-4a89-8340-2ed31f4ce1cb' class='xr-section-summary-in' type='checkbox'  checked><label for='section-c59e89e2-f8f1-4a89-8340-2ed31f4ce1cb' class='xr-section-summary' >Attributes: <span>(5)</span></label><div class='xr-section-inline-details'></div><div class='xr-section-details'><dl class='xr-attrs'><dt><span>method :</span></dt><dd>seasonal climatology built from downsampled CTD profiles</dd><dt><span>temp_bin_width :</span></dt><dd>0.5</dd><dt><span>description :</span></dt><dd>Monthly climatology of dT/dP and dS/dP vs temperature.</dd><dt><span>generated_by :</span></dt><dd>verticalnn rapid_interp module</dd><dt><span>created_on :</span></dt><dd>2025-06-09T17:45:03</dd></dl></div></li></ul></div></div>"
      ],
      "text/plain": [
       "<xarray.Dataset> Size: 15kB\n",
       "Dimensions:  (month: 12, TEMP: 74)\n",
       "Coordinates:\n",
       "  * month    (month) int64 96B 1 2 3 4 5 6 7 8 9 10 11 12\n",
       "  * TEMP     (TEMP) float64 592B -1.75 -1.25 -0.75 -0.25 ... 33.75 34.25 34.75\n",
       "Data variables:\n",
       "    dTdp     (month, TEMP) float64 7kB ...\n",
       "    dSdp     (month, TEMP) float64 7kB ...\n",
       "Attributes:\n",
       "    method:          seasonal climatology built from downsampled CTD profiles\n",
       "    temp_bin_width:  0.5\n",
       "    description:     Monthly climatology of dT/dP and dS/dP vs temperature.\n",
       "    generated_by:    verticalnn rapid_interp module\n",
       "    created_on:      2025-06-09T17:45:03"
      ]
     },
     "execution_count": 6,
     "metadata": {},
     "output_type": "execute_result"
    }
   ],
   "source": [
    "# The climatology is in SA and CT, so we need to convert our data\n",
    "# Maybe for similarity with RAPID, we shoudl convert the climatology to T and S\n",
    "ds_clim"
   ]
  },
  {
   "cell_type": "code",
   "execution_count": 7,
   "id": "99f2d70f",
   "metadata": {
    "execution": {
     "iopub.execute_input": "2025-09-07T09:15:39.901828Z",
     "iopub.status.busy": "2025-09-07T09:15:39.901616Z",
     "iopub.status.idle": "2025-09-07T09:15:39.934573Z",
     "shell.execute_reply": "2025-09-07T09:15:39.934088Z"
    }
   },
   "outputs": [
    {
     "ename": "NameError",
     "evalue": "name 'ds_12h' is not defined",
     "output_type": "error",
     "traceback": [
      "\u001b[31m---------------------------------------------------------------------------\u001b[39m",
      "\u001b[31mNameError\u001b[39m                                 Traceback (most recent call last)",
      "\u001b[36mCell\u001b[39m\u001b[36m \u001b[39m\u001b[32mIn[7]\u001b[39m\u001b[32m, line 1\u001b[39m\n\u001b[32m----> \u001b[39m\u001b[32m1\u001b[39m pmax = \u001b[38;5;28mfloat\u001b[39m(\u001b[43mds_12h\u001b[49m.PRES.max())\n\u001b[32m      2\u001b[39m \u001b[38;5;28mprint\u001b[39m(\u001b[33m\"\u001b[39m\u001b[33mMaximum pressure in ds_interp:\u001b[39m\u001b[33m\"\u001b[39m, pmax)\n\u001b[32m      4\u001b[39m pmax = \u001b[38;5;28mmax\u001b[39m(ds_12h.PRES.max(), \u001b[32m3900\u001b[39m)\n",
      "\u001b[31mNameError\u001b[39m: name 'ds_12h' is not defined"
     ]
    }
   ],
   "source": [
    "pmax = float(ds_12h.PRES.max())\n",
    "print(\"Maximum pressure in ds_interp:\", pmax)\n",
    "\n",
    "pmax = max(ds_12h.PRES.max(), 3900)\n",
    "print(\"Maximum pressure after adjustment:\", pmax)\n",
    "\n",
    "pgrid = rapid_interp.spacing(0, pmax, 20)\n",
    "\n",
    "SP = gsw.SP_from_C(ds_12h[\"CNDC\"], ds_12h[\"TEMP\"], ds_12h[\"PRES\"])\n",
    "SA = gsw.SA_from_SP(SP, ds_12h[\"PRES\"], ds_12h[\"LONGITUDE\"], ds_12h[\"LATITUDE\"])\n",
    "CT = gsw.CT_from_t(SA, ds_12h[\"TEMP\"], ds_12h[\"PRES\"])\n",
    "ds_12h = ds_12h.assign(SP=((\"TIME\", \"DEPTH\", \"LATITUDE\", \"LONGITUDE\"), SP.data),\n",
    "    SA=((\"TIME\", \"DEPTH\", \"LATITUDE\", \"LONGITUDE\"), SA.data),\n",
    "    CT=((\"TIME\", \"DEPTH\", \"LATITUDE\", \"LONGITUDE\"), CT.data))\n",
    "lat = float(ds_12h[\"LATITUDE\"].values)\n",
    "lon = float(ds_12h[\"LONGITUDE\"].values)\n",
    "\n",
    "ds_12h = ds_12h.squeeze(dim=[\"LATITUDE\", \"LONGITUDE\"], drop=True)\n",
    "ds_12h = ds_12h.assign_coords(LATITUDE=(\"TIME\", [lat] * ds_12h.dims[\"TIME\"]))\n",
    "ds_12h = ds_12h.assign_coords(LONGITUDE=(\"TIME\", [lon] * ds_12h.dims[\"TIME\"]))\n",
    "\n",
    "ds_interp = rapid_interp.interpolate_profiles(ds_12h, ds_clim, time_key=\"TIME\", p_grid=pgrid)\n",
    "ds_12h\n"
   ]
  },
  {
   "cell_type": "code",
   "execution_count": 8,
   "id": "e7799d72",
   "metadata": {
    "execution": {
     "iopub.execute_input": "2025-09-07T09:15:39.936558Z",
     "iopub.status.busy": "2025-09-07T09:15:39.936390Z",
     "iopub.status.idle": "2025-09-07T09:15:39.955628Z",
     "shell.execute_reply": "2025-09-07T09:15:39.955013Z"
    },
    "vscode": {
     "languageId": "javascript"
    }
   },
   "outputs": [
    {
     "ename": "NameError",
     "evalue": "name 'ds_interp' is not defined",
     "output_type": "error",
     "traceback": [
      "\u001b[31m---------------------------------------------------------------------------\u001b[39m",
      "\u001b[31mNameError\u001b[39m                                 Traceback (most recent call last)",
      "\u001b[36mCell\u001b[39m\u001b[36m \u001b[39m\u001b[32mIn[8]\u001b[39m\u001b[32m, line 1\u001b[39m\n\u001b[32m----> \u001b[39m\u001b[32m1\u001b[39m \u001b[43mds_interp\u001b[49m\n",
      "\u001b[31mNameError\u001b[39m: name 'ds_interp' is not defined"
     ]
    }
   ],
   "source": [
    "ds_interp"
   ]
  },
  {
   "cell_type": "code",
   "execution_count": 9,
   "id": "ab26f061",
   "metadata": {
    "execution": {
     "iopub.execute_input": "2025-09-07T09:15:39.957521Z",
     "iopub.status.busy": "2025-09-07T09:15:39.957335Z",
     "iopub.status.idle": "2025-09-07T09:15:39.977683Z",
     "shell.execute_reply": "2025-09-07T09:15:39.976995Z"
    }
   },
   "outputs": [
    {
     "ename": "NameError",
     "evalue": "name 'ds_12h' is not defined",
     "output_type": "error",
     "traceback": [
      "\u001b[31m---------------------------------------------------------------------------\u001b[39m",
      "\u001b[31mNameError\u001b[39m                                 Traceback (most recent call last)",
      "\u001b[36mCell\u001b[39m\u001b[36m \u001b[39m\u001b[32mIn[9]\u001b[39m\u001b[32m, line 1\u001b[39m\n\u001b[32m----> \u001b[39m\u001b[32m1\u001b[39m plotters.plot_timeseries_by_depth(\u001b[43mds_12h\u001b[49m, var=\u001b[33m\"\u001b[39m\u001b[33mPRES\u001b[39m\u001b[33m\"\u001b[39m)\n\u001b[32m      2\u001b[39m plotters.pcolor_timeseries_by_depth(ds_interp, var=\u001b[33m\"\u001b[39m\u001b[33mSA\u001b[39m\u001b[33m\"\u001b[39m)\n",
      "\u001b[31mNameError\u001b[39m: name 'ds_12h' is not defined"
     ]
    }
   ],
   "source": [
    "\n",
    "\n",
    "plotters.plot_timeseries_by_depth(ds_12h, var=\"PRES\")\n",
    "plotters.pcolor_timeseries_by_depth(ds_interp, var=\"SA\")"
   ]
  },
  {
   "cell_type": "code",
   "execution_count": 10,
   "id": "68780c36",
   "metadata": {
    "execution": {
     "iopub.execute_input": "2025-09-07T09:15:39.979801Z",
     "iopub.status.busy": "2025-09-07T09:15:39.979575Z",
     "iopub.status.idle": "2025-09-07T09:15:40.000119Z",
     "shell.execute_reply": "2025-09-07T09:15:39.999517Z"
    }
   },
   "outputs": [
    {
     "ename": "NameError",
     "evalue": "name 'ds_interp' is not defined",
     "output_type": "error",
     "traceback": [
      "\u001b[31m---------------------------------------------------------------------------\u001b[39m",
      "\u001b[31mNameError\u001b[39m                                 Traceback (most recent call last)",
      "\u001b[36mCell\u001b[39m\u001b[36m \u001b[39m\u001b[32mIn[10]\u001b[39m\u001b[32m, line 2\u001b[39m\n\u001b[32m      1\u001b[39m \u001b[38;5;66;03m# Check the profiles\u001b[39;00m\n\u001b[32m----> \u001b[39m\u001b[32m2\u001b[39m plotters.scatter_profile_vs_PRES(\u001b[43mds_interp\u001b[49m, ds_12h, var=\u001b[33m\"\u001b[39m\u001b[33mSA\u001b[39m\u001b[33m\"\u001b[39m)\n",
      "\u001b[31mNameError\u001b[39m: name 'ds_interp' is not defined"
     ]
    }
   ],
   "source": [
    "# Check the profiles\n",
    "plotters.scatter_profile_vs_PRES(ds_interp, ds_12h, var=\"SA\")"
   ]
  }
 ],
 "metadata": {
  "kernelspec": {
   "display_name": "venv (3.11.7)",
   "language": "python",
   "name": "python3"
  },
  "language_info": {
   "codemirror_mode": {
    "name": "ipython",
    "version": 3
   },
   "file_extension": ".py",
   "mimetype": "text/x-python",
   "name": "python",
   "nbconvert_exporter": "python",
   "pygments_lexer": "ipython3",
   "version": "3.13.7"
  }
 },
 "nbformat": 4,
 "nbformat_minor": 5
}
